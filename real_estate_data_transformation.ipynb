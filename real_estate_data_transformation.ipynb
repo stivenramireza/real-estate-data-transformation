{
 "cells": [
  {
   "cell_type": "markdown",
   "metadata": {
    "id": "00JPPHBjkAKN"
   },
   "source": [
    "## Real Estate Data Transformation"
   ]
  },
  {
   "cell_type": "code",
   "execution_count": 1,
   "metadata": {
    "id": "pt0M2FhMkAKO"
   },
   "outputs": [],
   "source": [
    "import json\n",
    "import pandas as pd\n",
    "import numpy as np"
   ]
  },
  {
   "cell_type": "markdown",
   "metadata": {
    "id": "l0c7fwtRkAKU"
   },
   "source": [
    "### Get ids properties"
   ]
  },
  {
   "cell_type": "code",
   "execution_count": 2,
   "metadata": {
    "id": "Zv7223XCkAKV"
   },
   "outputs": [],
   "source": [
    "import aiohttp\n",
    "import asyncio\n",
    "\n",
    "import nest_asyncio\n",
    "nest_asyncio.apply()\n",
    "\n",
    "async def get(url):\n",
    "    async with aiohttp.ClientSession() as session:\n",
    "        async with session.get(url) as response:\n",
    "            data = json.loads(await response.text())\n",
    "            return data['data']\n",
    "\n",
    "loop = asyncio.get_event_loop()\n",
    "\n",
    "result = loop.run_until_complete(get('https://api.arrendamientosnutibara.com/promotion/all-promotions'))"
   ]
  },
  {
   "cell_type": "code",
   "execution_count": 3,
   "metadata": {
    "id": "2YSUCXstkAKc"
   },
   "outputs": [],
   "source": [
    "properties = [x for x in result if x['status'] == 'PROMOCION' and len(x['property']['images']) >= 3]"
   ]
  },
  {
   "cell_type": "code",
   "execution_count": 4,
   "metadata": {
    "id": "Z5mS8j2_kAKg"
   },
   "outputs": [],
   "source": [
    "df = pd.DataFrame(properties)\n",
    "df.drop(columns = ['sellValue', 'rentValue', 'status', 'situation', 'keys', 'property'], inplace = True)\n",
    "ids = df.to_dict('records')\n",
    "ids_list = []\n",
    "for data in ids:\n",
    "    ids_list.append(data['id'])"
   ]
  },
  {
   "cell_type": "code",
   "execution_count": 5,
   "metadata": {
    "colab": {
     "base_uri": "https://localhost:8080/"
    },
    "id": "tWy-My8akAKl",
    "outputId": "b97edcbd-0b3f-4328-bdb3-330cdcaba4f5"
   },
   "outputs": [
    {
     "data": {
      "text/plain": [
       "588"
      ]
     },
     "execution_count": 5,
     "metadata": {},
     "output_type": "execute_result"
    }
   ],
   "source": [
    "len(ids_list)"
   ]
  },
  {
   "cell_type": "markdown",
   "metadata": {
    "id": "kDruIOmNkAKq"
   },
   "source": [
    "### Get data per property"
   ]
  },
  {
   "cell_type": "code",
   "execution_count": 6,
   "metadata": {
    "id": "rTIVRqwfkAKr"
   },
   "outputs": [],
   "source": [
    "import asyncio\n",
    "from aiohttp import ClientSession"
   ]
  },
  {
   "cell_type": "code",
   "execution_count": 7,
   "metadata": {
    "id": "0_4dbENJkAKx"
   },
   "outputs": [],
   "source": [
    "async def fetch(url, session):\n",
    "    async with session.get(url) as response:\n",
    "        response = json.loads(await response.text())\n",
    "        return response['data']"
   ]
  },
  {
   "cell_type": "code",
   "execution_count": 8,
   "metadata": {
    "id": "VbCVYiWgkAK3"
   },
   "outputs": [],
   "source": [
    "properties_list = []"
   ]
  },
  {
   "cell_type": "code",
   "execution_count": 10,
   "metadata": {
    "id": "4LjwD8d-kAK8"
   },
   "outputs": [],
   "source": [
    "async def run(ids_list):\n",
    "    url = \"https://api.arrendamientosnutibara.com/promotion/{}\"\n",
    "    properties = []\n",
    "    async with ClientSession() as session:\n",
    "        for id in ids_list:\n",
    "            property = asyncio.ensure_future(fetch(url.format(id), session))\n",
    "            properties.append(property)\n",
    "\n",
    "        responses = await asyncio.gather(*properties)\n",
    "        for property in responses:\n",
    "            properties_list.append(property)"
   ]
  },
  {
   "cell_type": "code",
   "execution_count": 11,
   "metadata": {
    "id": "b-CaeEiNkALA"
   },
   "outputs": [],
   "source": [
    "loop = asyncio.get_event_loop()\n",
    "future = asyncio.ensure_future(run(ids_list))\n",
    "loop.run_until_complete(future)"
   ]
  },
  {
   "cell_type": "code",
   "execution_count": 12,
   "metadata": {
    "colab": {
     "base_uri": "https://localhost:8080/"
    },
    "id": "YTrq-WnzkALF",
    "outputId": "be47edee-e51a-4232-ada6-9330e918699b"
   },
   "outputs": [
    {
     "data": {
      "text/plain": [
       "588"
      ]
     },
     "execution_count": 12,
     "metadata": {},
     "output_type": "execute_result"
    }
   ],
   "source": [
    "len(properties_list)"
   ]
  },
  {
   "cell_type": "markdown",
   "metadata": {
    "id": "ceke30X9kALJ"
   },
   "source": [
    "### Data Cleaning"
   ]
  },
  {
   "cell_type": "code",
   "execution_count": 13,
   "metadata": {
    "id": "FUWsOHVMkALK"
   },
   "outputs": [],
   "source": [
    "df_promotion = pd.DataFrame(properties_list)"
   ]
  },
  {
   "cell_type": "code",
   "execution_count": 14,
   "metadata": {
    "id": "BWkK4zHNkALO"
   },
   "outputs": [],
   "source": [
    "df_promotion.drop(columns=['sellValue', 'status', 'keys'], inplace = True)"
   ]
  },
  {
   "cell_type": "code",
   "execution_count": 15,
   "metadata": {
    "id": "PGUmOoEOkALT"
   },
   "outputs": [],
   "source": [
    "df_promotion.columns = ['promotion_id', 'promotion_rent', 'property']"
   ]
  },
  {
   "cell_type": "code",
   "execution_count": 16,
   "metadata": {
    "id": "SzgdkzickALW"
   },
   "outputs": [],
   "source": [
    "promotion_detail = df_promotion['property']"
   ]
  },
  {
   "cell_type": "code",
   "execution_count": 17,
   "metadata": {
    "id": "OlUHlPMykALa"
   },
   "outputs": [],
   "source": [
    "df_promotion_detail = pd.DataFrame(list(promotion_detail))"
   ]
  },
  {
   "cell_type": "code",
   "execution_count": 18,
   "metadata": {
    "id": "e2ghpcx1kALf"
   },
   "outputs": [],
   "source": [
    "df_promotion_detail = df_promotion_detail.rename(columns={\n",
    "    \"id\": \"property_id\",\n",
    "})"
   ]
  },
  {
   "cell_type": "code",
   "execution_count": 19,
   "metadata": {
    "id": "ZUieQTYakALj"
   },
   "outputs": [],
   "source": [
    "df_promotion.drop(columns = ['property'], inplace = True)"
   ]
  },
  {
   "cell_type": "markdown",
   "metadata": {
    "id": "2N5G66R4kALn"
   },
   "source": [
    "### Join DataFrames"
   ]
  },
  {
   "cell_type": "code",
   "execution_count": 20,
   "metadata": {
    "id": "nSWIAIDekALo"
   },
   "outputs": [],
   "source": [
    "df = df_promotion.join(df_promotion_detail)"
   ]
  },
  {
   "cell_type": "markdown",
   "metadata": {
    "id": "fb59A_zpkALr"
   },
   "source": [
    "### Replace words in property type"
   ]
  },
  {
   "cell_type": "code",
   "execution_count": 21,
   "metadata": {
    "id": "i3--2JkskALs"
   },
   "outputs": [],
   "source": [
    "df['type'] = df['type'].str.replace(' SIMP', '')"
   ]
  },
  {
   "cell_type": "markdown",
   "metadata": {
    "id": "X14lG7zDkALw"
   },
   "source": [
    "### Capitalize"
   ]
  },
  {
   "cell_type": "code",
   "execution_count": 22,
   "metadata": {
    "id": "O4QiXruvkALw"
   },
   "outputs": [],
   "source": [
    "df['type'] = df['type'].str.capitalize()\n",
    "df['neighborhood'] = df['neighborhood'].str.capitalize()\n",
    "df['city'] = df['city'].str.capitalize()"
   ]
  },
  {
   "cell_type": "markdown",
   "metadata": {
    "id": "QxWLxLOQkAL0"
   },
   "source": [
    "### Delete columns Appropiate API doesn't need"
   ]
  },
  {
   "cell_type": "code",
   "execution_count": 23,
   "metadata": {
    "id": "1ZoFPLZPkAL1"
   },
   "outputs": [],
   "source": [
    "df = df.drop(columns = ['sector'])"
   ]
  },
  {
   "cell_type": "markdown",
   "metadata": {
    "id": "tTOFwzWNkAL5"
   },
   "source": [
    "### Strip"
   ]
  },
  {
   "cell_type": "code",
   "execution_count": 24,
   "metadata": {
    "id": "idh2vbxSkAL6"
   },
   "outputs": [],
   "source": [
    "df['type'] = df['type'].str.strip()"
   ]
  },
  {
   "cell_type": "code",
   "execution_count": 25,
   "metadata": {
    "id": "nu43gK3CkAL-"
   },
   "outputs": [],
   "source": [
    "def lower_columns(df, cols):\n",
    "    df[cols] = df[cols].apply(lambda x: x.str.lower())\n",
    "    return df"
   ]
  },
  {
   "cell_type": "code",
   "execution_count": 26,
   "metadata": {
    "colab": {
     "base_uri": "https://localhost:8080/",
     "height": 589
    },
    "id": "2xC4dWX9kAMD",
    "outputId": "a5853add-3be8-4069-ccaa-86603d945a04"
   },
   "outputs": [
    {
     "data": {
      "text/html": [
       "<div>\n",
       "<style scoped>\n",
       "    .dataframe tbody tr th:only-of-type {\n",
       "        vertical-align: middle;\n",
       "    }\n",
       "\n",
       "    .dataframe tbody tr th {\n",
       "        vertical-align: top;\n",
       "    }\n",
       "\n",
       "    .dataframe thead th {\n",
       "        text-align: right;\n",
       "    }\n",
       "</style>\n",
       "<table border=\"1\" class=\"dataframe\">\n",
       "  <thead>\n",
       "    <tr style=\"text-align: right;\">\n",
       "      <th></th>\n",
       "      <th>promotion_id</th>\n",
       "      <th>promotion_rent</th>\n",
       "      <th>property_id</th>\n",
       "      <th>type</th>\n",
       "      <th>neighborhood</th>\n",
       "      <th>city</th>\n",
       "      <th>latitude</th>\n",
       "      <th>longitude</th>\n",
       "      <th>stratum</th>\n",
       "      <th>images</th>\n",
       "      <th>facilities</th>\n",
       "    </tr>\n",
       "  </thead>\n",
       "  <tbody>\n",
       "    <tr>\n",
       "      <th>0</th>\n",
       "      <td>45975</td>\n",
       "      <td>500000</td>\n",
       "      <td>17957</td>\n",
       "      <td>apartamento</td>\n",
       "      <td>caribe</td>\n",
       "      <td>medellin</td>\n",
       "      <td>6.273039</td>\n",
       "      <td>-75.572224</td>\n",
       "      <td>3</td>\n",
       "      <td>[{'id': 5, 'resource': 'a861db299cd5979816d1ca...</td>\n",
       "      <td>[{'id': 525808, 'value': '2', 'facility': {'id...</td>\n",
       "    </tr>\n",
       "    <tr>\n",
       "      <th>1</th>\n",
       "      <td>47237</td>\n",
       "      <td>680000</td>\n",
       "      <td>28978</td>\n",
       "      <td>local</td>\n",
       "      <td>centro</td>\n",
       "      <td>medellin</td>\n",
       "      <td>6.256035</td>\n",
       "      <td>-75.571223</td>\n",
       "      <td>3</td>\n",
       "      <td>[{'id': 14, 'resource': 'a861db299cd5979816d1c...</td>\n",
       "      <td>[{'id': 558795, 'value': '2', 'facility': {'id...</td>\n",
       "    </tr>\n",
       "    <tr>\n",
       "      <th>2</th>\n",
       "      <td>50320</td>\n",
       "      <td>850000</td>\n",
       "      <td>21007</td>\n",
       "      <td>casa</td>\n",
       "      <td>francisco antonio zea</td>\n",
       "      <td>medellin</td>\n",
       "      <td>6.286610</td>\n",
       "      <td>-75.573299</td>\n",
       "      <td>3</td>\n",
       "      <td>[{'id': 40266, 'resource': '79de9c8c1e9dd76919...</td>\n",
       "      <td>[{'id': 608957, 'value': '3', 'facility': {'id...</td>\n",
       "    </tr>\n",
       "    <tr>\n",
       "      <th>3</th>\n",
       "      <td>50833</td>\n",
       "      <td>1000000</td>\n",
       "      <td>8446</td>\n",
       "      <td>local</td>\n",
       "      <td>itagui</td>\n",
       "      <td>itagui</td>\n",
       "      <td>6.190032</td>\n",
       "      <td>-75.597829</td>\n",
       "      <td>3</td>\n",
       "      <td>[{'id': 139, 'resource': '3f1fbec263afbcb6873b...</td>\n",
       "      <td>[{'id': 506111, 'value': '0', 'facility': {'id...</td>\n",
       "    </tr>\n",
       "    <tr>\n",
       "      <th>4</th>\n",
       "      <td>51352</td>\n",
       "      <td>8500000</td>\n",
       "      <td>28820</td>\n",
       "      <td>local</td>\n",
       "      <td>centro</td>\n",
       "      <td>medellin</td>\n",
       "      <td>6.252109</td>\n",
       "      <td>-75.567265</td>\n",
       "      <td>4</td>\n",
       "      <td>[{'id': 195, 'resource': 'a861db299cd5979816d1...</td>\n",
       "      <td>[{'id': 557546, 'value': '0', 'facility': {'id...</td>\n",
       "    </tr>\n",
       "    <tr>\n",
       "      <th>...</th>\n",
       "      <td>...</td>\n",
       "      <td>...</td>\n",
       "      <td>...</td>\n",
       "      <td>...</td>\n",
       "      <td>...</td>\n",
       "      <td>...</td>\n",
       "      <td>...</td>\n",
       "      <td>...</td>\n",
       "      <td>...</td>\n",
       "      <td>...</td>\n",
       "      <td>...</td>\n",
       "    </tr>\n",
       "    <tr>\n",
       "      <th>583</th>\n",
       "      <td>62877</td>\n",
       "      <td>800000</td>\n",
       "      <td>13613</td>\n",
       "      <td>apartamento</td>\n",
       "      <td>tricentenario</td>\n",
       "      <td>medellin</td>\n",
       "      <td>6.291108</td>\n",
       "      <td>-75.565718</td>\n",
       "      <td>3</td>\n",
       "      <td>[{'id': 38315, 'resource': 'dbd6737a156da45c18...</td>\n",
       "      <td>[{'id': 513777, 'value': '3', 'facility': {'id...</td>\n",
       "    </tr>\n",
       "    <tr>\n",
       "      <th>584</th>\n",
       "      <td>62879</td>\n",
       "      <td>1900000</td>\n",
       "      <td>34419</td>\n",
       "      <td>casa</td>\n",
       "      <td>laureles</td>\n",
       "      <td>medellin</td>\n",
       "      <td>6.238079</td>\n",
       "      <td>-75.594181</td>\n",
       "      <td>5</td>\n",
       "      <td>[{'id': 123487, 'resource': 'a1f28476c61a12a50...</td>\n",
       "      <td>[{'id': 625083, 'value': '3', 'facility': {'id...</td>\n",
       "    </tr>\n",
       "    <tr>\n",
       "      <th>585</th>\n",
       "      <td>62884</td>\n",
       "      <td>2200000</td>\n",
       "      <td>30704</td>\n",
       "      <td>local</td>\n",
       "      <td>centro</td>\n",
       "      <td>medellin</td>\n",
       "      <td>6.253478</td>\n",
       "      <td>-75.562653</td>\n",
       "      <td>4</td>\n",
       "      <td>[{'id': 4134, 'resource': 'b0826b182a028380f33...</td>\n",
       "      <td>[{'id': 569971, 'value': '2', 'facility': {'id...</td>\n",
       "    </tr>\n",
       "    <tr>\n",
       "      <th>586</th>\n",
       "      <td>62886</td>\n",
       "      <td>2500000</td>\n",
       "      <td>34422</td>\n",
       "      <td>casa</td>\n",
       "      <td>estadio</td>\n",
       "      <td>medellin</td>\n",
       "      <td>6.253917</td>\n",
       "      <td>-75.582674</td>\n",
       "      <td>5</td>\n",
       "      <td>[{'id': 123390, 'resource': 'ba06c381ed267fb7d...</td>\n",
       "      <td>[{'id': 625183, 'value': '0', 'facility': {'id...</td>\n",
       "    </tr>\n",
       "    <tr>\n",
       "      <th>587</th>\n",
       "      <td>62895</td>\n",
       "      <td>1000000</td>\n",
       "      <td>33373</td>\n",
       "      <td>casa</td>\n",
       "      <td>alfonso lopez</td>\n",
       "      <td>medellin</td>\n",
       "      <td>6.283695</td>\n",
       "      <td>-75.576573</td>\n",
       "      <td>3</td>\n",
       "      <td>[{'id': 39796, 'resource': '0a6a2de9c677bf3035...</td>\n",
       "      <td>[{'id': 608312, 'value': '3', 'facility': {'id...</td>\n",
       "    </tr>\n",
       "  </tbody>\n",
       "</table>\n",
       "<p>588 rows × 11 columns</p>\n",
       "</div>"
      ],
      "text/plain": [
       "     promotion_id promotion_rent  property_id         type  \\\n",
       "0           45975         500000        17957  apartamento   \n",
       "1           47237         680000        28978        local   \n",
       "2           50320         850000        21007         casa   \n",
       "3           50833        1000000         8446        local   \n",
       "4           51352        8500000        28820        local   \n",
       "..            ...            ...          ...          ...   \n",
       "583         62877         800000        13613  apartamento   \n",
       "584         62879        1900000        34419         casa   \n",
       "585         62884        2200000        30704        local   \n",
       "586         62886        2500000        34422         casa   \n",
       "587         62895        1000000        33373         casa   \n",
       "\n",
       "              neighborhood      city  latitude  longitude  stratum  \\\n",
       "0                   caribe  medellin  6.273039 -75.572224        3   \n",
       "1                   centro  medellin  6.256035 -75.571223        3   \n",
       "2    francisco antonio zea  medellin  6.286610 -75.573299        3   \n",
       "3                   itagui    itagui  6.190032 -75.597829        3   \n",
       "4                   centro  medellin  6.252109 -75.567265        4   \n",
       "..                     ...       ...       ...        ...      ...   \n",
       "583          tricentenario  medellin  6.291108 -75.565718        3   \n",
       "584               laureles  medellin  6.238079 -75.594181        5   \n",
       "585                 centro  medellin  6.253478 -75.562653        4   \n",
       "586                estadio  medellin  6.253917 -75.582674        5   \n",
       "587          alfonso lopez  medellin  6.283695 -75.576573        3   \n",
       "\n",
       "                                                images  \\\n",
       "0    [{'id': 5, 'resource': 'a861db299cd5979816d1ca...   \n",
       "1    [{'id': 14, 'resource': 'a861db299cd5979816d1c...   \n",
       "2    [{'id': 40266, 'resource': '79de9c8c1e9dd76919...   \n",
       "3    [{'id': 139, 'resource': '3f1fbec263afbcb6873b...   \n",
       "4    [{'id': 195, 'resource': 'a861db299cd5979816d1...   \n",
       "..                                                 ...   \n",
       "583  [{'id': 38315, 'resource': 'dbd6737a156da45c18...   \n",
       "584  [{'id': 123487, 'resource': 'a1f28476c61a12a50...   \n",
       "585  [{'id': 4134, 'resource': 'b0826b182a028380f33...   \n",
       "586  [{'id': 123390, 'resource': 'ba06c381ed267fb7d...   \n",
       "587  [{'id': 39796, 'resource': '0a6a2de9c677bf3035...   \n",
       "\n",
       "                                            facilities  \n",
       "0    [{'id': 525808, 'value': '2', 'facility': {'id...  \n",
       "1    [{'id': 558795, 'value': '2', 'facility': {'id...  \n",
       "2    [{'id': 608957, 'value': '3', 'facility': {'id...  \n",
       "3    [{'id': 506111, 'value': '0', 'facility': {'id...  \n",
       "4    [{'id': 557546, 'value': '0', 'facility': {'id...  \n",
       "..                                                 ...  \n",
       "583  [{'id': 513777, 'value': '3', 'facility': {'id...  \n",
       "584  [{'id': 625083, 'value': '3', 'facility': {'id...  \n",
       "585  [{'id': 569971, 'value': '2', 'facility': {'id...  \n",
       "586  [{'id': 625183, 'value': '0', 'facility': {'id...  \n",
       "587  [{'id': 608312, 'value': '3', 'facility': {'id...  \n",
       "\n",
       "[588 rows x 11 columns]"
      ]
     },
     "execution_count": 26,
     "metadata": {},
     "output_type": "execute_result"
    }
   ],
   "source": [
    "lower_columns(df, ['type', 'neighborhood', 'city'])"
   ]
  },
  {
   "cell_type": "code",
   "execution_count": 27,
   "metadata": {
    "id": "IkIpOyockAMI"
   },
   "outputs": [],
   "source": [
    "def remove_accents(df, cols):\n",
    "    df[cols] = df[cols].apply(lambda x: x.str.replace(\"Ñ\", \"%\"))\n",
    "    df[cols] = df[cols].apply(lambda x: x.str.normalize('NFKD').str.encode('ascii', errors='ignore').str.decode('ascii'))\n",
    "    df[cols] = df[cols].apply(lambda x: x.str.replace(\"%\", \"Ñ\"))\n",
    "    return df"
   ]
  },
  {
   "cell_type": "code",
   "execution_count": 28,
   "metadata": {
    "colab": {
     "base_uri": "https://localhost:8080/",
     "height": 589
    },
    "id": "0w4iwQaSkAML",
    "outputId": "662385b2-2142-429d-d3fe-4482776d8485"
   },
   "outputs": [
    {
     "data": {
      "text/html": [
       "<div>\n",
       "<style scoped>\n",
       "    .dataframe tbody tr th:only-of-type {\n",
       "        vertical-align: middle;\n",
       "    }\n",
       "\n",
       "    .dataframe tbody tr th {\n",
       "        vertical-align: top;\n",
       "    }\n",
       "\n",
       "    .dataframe thead th {\n",
       "        text-align: right;\n",
       "    }\n",
       "</style>\n",
       "<table border=\"1\" class=\"dataframe\">\n",
       "  <thead>\n",
       "    <tr style=\"text-align: right;\">\n",
       "      <th></th>\n",
       "      <th>promotion_id</th>\n",
       "      <th>promotion_rent</th>\n",
       "      <th>property_id</th>\n",
       "      <th>type</th>\n",
       "      <th>neighborhood</th>\n",
       "      <th>city</th>\n",
       "      <th>latitude</th>\n",
       "      <th>longitude</th>\n",
       "      <th>stratum</th>\n",
       "      <th>images</th>\n",
       "      <th>facilities</th>\n",
       "    </tr>\n",
       "  </thead>\n",
       "  <tbody>\n",
       "    <tr>\n",
       "      <th>0</th>\n",
       "      <td>45975</td>\n",
       "      <td>500000</td>\n",
       "      <td>17957</td>\n",
       "      <td>apartamento</td>\n",
       "      <td>caribe</td>\n",
       "      <td>medellin</td>\n",
       "      <td>6.273039</td>\n",
       "      <td>-75.572224</td>\n",
       "      <td>3</td>\n",
       "      <td>[{'id': 5, 'resource': 'a861db299cd5979816d1ca...</td>\n",
       "      <td>[{'id': 525808, 'value': '2', 'facility': {'id...</td>\n",
       "    </tr>\n",
       "    <tr>\n",
       "      <th>1</th>\n",
       "      <td>47237</td>\n",
       "      <td>680000</td>\n",
       "      <td>28978</td>\n",
       "      <td>local</td>\n",
       "      <td>centro</td>\n",
       "      <td>medellin</td>\n",
       "      <td>6.256035</td>\n",
       "      <td>-75.571223</td>\n",
       "      <td>3</td>\n",
       "      <td>[{'id': 14, 'resource': 'a861db299cd5979816d1c...</td>\n",
       "      <td>[{'id': 558795, 'value': '2', 'facility': {'id...</td>\n",
       "    </tr>\n",
       "    <tr>\n",
       "      <th>2</th>\n",
       "      <td>50320</td>\n",
       "      <td>850000</td>\n",
       "      <td>21007</td>\n",
       "      <td>casa</td>\n",
       "      <td>francisco antonio zea</td>\n",
       "      <td>medellin</td>\n",
       "      <td>6.286610</td>\n",
       "      <td>-75.573299</td>\n",
       "      <td>3</td>\n",
       "      <td>[{'id': 40266, 'resource': '79de9c8c1e9dd76919...</td>\n",
       "      <td>[{'id': 608957, 'value': '3', 'facility': {'id...</td>\n",
       "    </tr>\n",
       "    <tr>\n",
       "      <th>3</th>\n",
       "      <td>50833</td>\n",
       "      <td>1000000</td>\n",
       "      <td>8446</td>\n",
       "      <td>local</td>\n",
       "      <td>itagui</td>\n",
       "      <td>itagui</td>\n",
       "      <td>6.190032</td>\n",
       "      <td>-75.597829</td>\n",
       "      <td>3</td>\n",
       "      <td>[{'id': 139, 'resource': '3f1fbec263afbcb6873b...</td>\n",
       "      <td>[{'id': 506111, 'value': '0', 'facility': {'id...</td>\n",
       "    </tr>\n",
       "    <tr>\n",
       "      <th>4</th>\n",
       "      <td>51352</td>\n",
       "      <td>8500000</td>\n",
       "      <td>28820</td>\n",
       "      <td>local</td>\n",
       "      <td>centro</td>\n",
       "      <td>medellin</td>\n",
       "      <td>6.252109</td>\n",
       "      <td>-75.567265</td>\n",
       "      <td>4</td>\n",
       "      <td>[{'id': 195, 'resource': 'a861db299cd5979816d1...</td>\n",
       "      <td>[{'id': 557546, 'value': '0', 'facility': {'id...</td>\n",
       "    </tr>\n",
       "    <tr>\n",
       "      <th>...</th>\n",
       "      <td>...</td>\n",
       "      <td>...</td>\n",
       "      <td>...</td>\n",
       "      <td>...</td>\n",
       "      <td>...</td>\n",
       "      <td>...</td>\n",
       "      <td>...</td>\n",
       "      <td>...</td>\n",
       "      <td>...</td>\n",
       "      <td>...</td>\n",
       "      <td>...</td>\n",
       "    </tr>\n",
       "    <tr>\n",
       "      <th>583</th>\n",
       "      <td>62877</td>\n",
       "      <td>800000</td>\n",
       "      <td>13613</td>\n",
       "      <td>apartamento</td>\n",
       "      <td>tricentenario</td>\n",
       "      <td>medellin</td>\n",
       "      <td>6.291108</td>\n",
       "      <td>-75.565718</td>\n",
       "      <td>3</td>\n",
       "      <td>[{'id': 38315, 'resource': 'dbd6737a156da45c18...</td>\n",
       "      <td>[{'id': 513777, 'value': '3', 'facility': {'id...</td>\n",
       "    </tr>\n",
       "    <tr>\n",
       "      <th>584</th>\n",
       "      <td>62879</td>\n",
       "      <td>1900000</td>\n",
       "      <td>34419</td>\n",
       "      <td>casa</td>\n",
       "      <td>laureles</td>\n",
       "      <td>medellin</td>\n",
       "      <td>6.238079</td>\n",
       "      <td>-75.594181</td>\n",
       "      <td>5</td>\n",
       "      <td>[{'id': 123487, 'resource': 'a1f28476c61a12a50...</td>\n",
       "      <td>[{'id': 625083, 'value': '3', 'facility': {'id...</td>\n",
       "    </tr>\n",
       "    <tr>\n",
       "      <th>585</th>\n",
       "      <td>62884</td>\n",
       "      <td>2200000</td>\n",
       "      <td>30704</td>\n",
       "      <td>local</td>\n",
       "      <td>centro</td>\n",
       "      <td>medellin</td>\n",
       "      <td>6.253478</td>\n",
       "      <td>-75.562653</td>\n",
       "      <td>4</td>\n",
       "      <td>[{'id': 4134, 'resource': 'b0826b182a028380f33...</td>\n",
       "      <td>[{'id': 569971, 'value': '2', 'facility': {'id...</td>\n",
       "    </tr>\n",
       "    <tr>\n",
       "      <th>586</th>\n",
       "      <td>62886</td>\n",
       "      <td>2500000</td>\n",
       "      <td>34422</td>\n",
       "      <td>casa</td>\n",
       "      <td>estadio</td>\n",
       "      <td>medellin</td>\n",
       "      <td>6.253917</td>\n",
       "      <td>-75.582674</td>\n",
       "      <td>5</td>\n",
       "      <td>[{'id': 123390, 'resource': 'ba06c381ed267fb7d...</td>\n",
       "      <td>[{'id': 625183, 'value': '0', 'facility': {'id...</td>\n",
       "    </tr>\n",
       "    <tr>\n",
       "      <th>587</th>\n",
       "      <td>62895</td>\n",
       "      <td>1000000</td>\n",
       "      <td>33373</td>\n",
       "      <td>casa</td>\n",
       "      <td>alfonso lopez</td>\n",
       "      <td>medellin</td>\n",
       "      <td>6.283695</td>\n",
       "      <td>-75.576573</td>\n",
       "      <td>3</td>\n",
       "      <td>[{'id': 39796, 'resource': '0a6a2de9c677bf3035...</td>\n",
       "      <td>[{'id': 608312, 'value': '3', 'facility': {'id...</td>\n",
       "    </tr>\n",
       "  </tbody>\n",
       "</table>\n",
       "<p>588 rows × 11 columns</p>\n",
       "</div>"
      ],
      "text/plain": [
       "     promotion_id promotion_rent  property_id         type  \\\n",
       "0           45975         500000        17957  apartamento   \n",
       "1           47237         680000        28978        local   \n",
       "2           50320         850000        21007         casa   \n",
       "3           50833        1000000         8446        local   \n",
       "4           51352        8500000        28820        local   \n",
       "..            ...            ...          ...          ...   \n",
       "583         62877         800000        13613  apartamento   \n",
       "584         62879        1900000        34419         casa   \n",
       "585         62884        2200000        30704        local   \n",
       "586         62886        2500000        34422         casa   \n",
       "587         62895        1000000        33373         casa   \n",
       "\n",
       "              neighborhood      city  latitude  longitude  stratum  \\\n",
       "0                   caribe  medellin  6.273039 -75.572224        3   \n",
       "1                   centro  medellin  6.256035 -75.571223        3   \n",
       "2    francisco antonio zea  medellin  6.286610 -75.573299        3   \n",
       "3                   itagui    itagui  6.190032 -75.597829        3   \n",
       "4                   centro  medellin  6.252109 -75.567265        4   \n",
       "..                     ...       ...       ...        ...      ...   \n",
       "583          tricentenario  medellin  6.291108 -75.565718        3   \n",
       "584               laureles  medellin  6.238079 -75.594181        5   \n",
       "585                 centro  medellin  6.253478 -75.562653        4   \n",
       "586                estadio  medellin  6.253917 -75.582674        5   \n",
       "587          alfonso lopez  medellin  6.283695 -75.576573        3   \n",
       "\n",
       "                                                images  \\\n",
       "0    [{'id': 5, 'resource': 'a861db299cd5979816d1ca...   \n",
       "1    [{'id': 14, 'resource': 'a861db299cd5979816d1c...   \n",
       "2    [{'id': 40266, 'resource': '79de9c8c1e9dd76919...   \n",
       "3    [{'id': 139, 'resource': '3f1fbec263afbcb6873b...   \n",
       "4    [{'id': 195, 'resource': 'a861db299cd5979816d1...   \n",
       "..                                                 ...   \n",
       "583  [{'id': 38315, 'resource': 'dbd6737a156da45c18...   \n",
       "584  [{'id': 123487, 'resource': 'a1f28476c61a12a50...   \n",
       "585  [{'id': 4134, 'resource': 'b0826b182a028380f33...   \n",
       "586  [{'id': 123390, 'resource': 'ba06c381ed267fb7d...   \n",
       "587  [{'id': 39796, 'resource': '0a6a2de9c677bf3035...   \n",
       "\n",
       "                                            facilities  \n",
       "0    [{'id': 525808, 'value': '2', 'facility': {'id...  \n",
       "1    [{'id': 558795, 'value': '2', 'facility': {'id...  \n",
       "2    [{'id': 608957, 'value': '3', 'facility': {'id...  \n",
       "3    [{'id': 506111, 'value': '0', 'facility': {'id...  \n",
       "4    [{'id': 557546, 'value': '0', 'facility': {'id...  \n",
       "..                                                 ...  \n",
       "583  [{'id': 513777, 'value': '3', 'facility': {'id...  \n",
       "584  [{'id': 625083, 'value': '3', 'facility': {'id...  \n",
       "585  [{'id': 569971, 'value': '2', 'facility': {'id...  \n",
       "586  [{'id': 625183, 'value': '0', 'facility': {'id...  \n",
       "587  [{'id': 608312, 'value': '3', 'facility': {'id...  \n",
       "\n",
       "[588 rows x 11 columns]"
      ]
     },
     "execution_count": 28,
     "metadata": {},
     "output_type": "execute_result"
    }
   ],
   "source": [
    "remove_accents(df, ['city', 'type', 'neighborhood'])"
   ]
  },
  {
   "cell_type": "code",
   "execution_count": 29,
   "metadata": {
    "id": "3NgfQy-9kAMP"
   },
   "outputs": [],
   "source": [
    "def convert_to_int_columns(df, cols):\n",
    "    df[cols] = df[cols].apply(lambda x: x.astype(int))\n",
    "    return df"
   ]
  },
  {
   "cell_type": "code",
   "execution_count": 30,
   "metadata": {
    "colab": {
     "base_uri": "https://localhost:8080/",
     "height": 589
    },
    "id": "edXSGBXGkAMU",
    "outputId": "a06512a5-7e8c-4b48-c34f-f781052f6703"
   },
   "outputs": [
    {
     "data": {
      "text/html": [
       "<div>\n",
       "<style scoped>\n",
       "    .dataframe tbody tr th:only-of-type {\n",
       "        vertical-align: middle;\n",
       "    }\n",
       "\n",
       "    .dataframe tbody tr th {\n",
       "        vertical-align: top;\n",
       "    }\n",
       "\n",
       "    .dataframe thead th {\n",
       "        text-align: right;\n",
       "    }\n",
       "</style>\n",
       "<table border=\"1\" class=\"dataframe\">\n",
       "  <thead>\n",
       "    <tr style=\"text-align: right;\">\n",
       "      <th></th>\n",
       "      <th>promotion_id</th>\n",
       "      <th>promotion_rent</th>\n",
       "      <th>property_id</th>\n",
       "      <th>type</th>\n",
       "      <th>neighborhood</th>\n",
       "      <th>city</th>\n",
       "      <th>latitude</th>\n",
       "      <th>longitude</th>\n",
       "      <th>stratum</th>\n",
       "      <th>images</th>\n",
       "      <th>facilities</th>\n",
       "    </tr>\n",
       "  </thead>\n",
       "  <tbody>\n",
       "    <tr>\n",
       "      <th>0</th>\n",
       "      <td>45975</td>\n",
       "      <td>500000</td>\n",
       "      <td>17957</td>\n",
       "      <td>apartamento</td>\n",
       "      <td>caribe</td>\n",
       "      <td>medellin</td>\n",
       "      <td>6.273039</td>\n",
       "      <td>-75.572224</td>\n",
       "      <td>3</td>\n",
       "      <td>[{'id': 5, 'resource': 'a861db299cd5979816d1ca...</td>\n",
       "      <td>[{'id': 525808, 'value': '2', 'facility': {'id...</td>\n",
       "    </tr>\n",
       "    <tr>\n",
       "      <th>1</th>\n",
       "      <td>47237</td>\n",
       "      <td>680000</td>\n",
       "      <td>28978</td>\n",
       "      <td>local</td>\n",
       "      <td>centro</td>\n",
       "      <td>medellin</td>\n",
       "      <td>6.256035</td>\n",
       "      <td>-75.571223</td>\n",
       "      <td>3</td>\n",
       "      <td>[{'id': 14, 'resource': 'a861db299cd5979816d1c...</td>\n",
       "      <td>[{'id': 558795, 'value': '2', 'facility': {'id...</td>\n",
       "    </tr>\n",
       "    <tr>\n",
       "      <th>2</th>\n",
       "      <td>50320</td>\n",
       "      <td>850000</td>\n",
       "      <td>21007</td>\n",
       "      <td>casa</td>\n",
       "      <td>francisco antonio zea</td>\n",
       "      <td>medellin</td>\n",
       "      <td>6.286610</td>\n",
       "      <td>-75.573299</td>\n",
       "      <td>3</td>\n",
       "      <td>[{'id': 40266, 'resource': '79de9c8c1e9dd76919...</td>\n",
       "      <td>[{'id': 608957, 'value': '3', 'facility': {'id...</td>\n",
       "    </tr>\n",
       "    <tr>\n",
       "      <th>3</th>\n",
       "      <td>50833</td>\n",
       "      <td>1000000</td>\n",
       "      <td>8446</td>\n",
       "      <td>local</td>\n",
       "      <td>itagui</td>\n",
       "      <td>itagui</td>\n",
       "      <td>6.190032</td>\n",
       "      <td>-75.597829</td>\n",
       "      <td>3</td>\n",
       "      <td>[{'id': 139, 'resource': '3f1fbec263afbcb6873b...</td>\n",
       "      <td>[{'id': 506111, 'value': '0', 'facility': {'id...</td>\n",
       "    </tr>\n",
       "    <tr>\n",
       "      <th>4</th>\n",
       "      <td>51352</td>\n",
       "      <td>8500000</td>\n",
       "      <td>28820</td>\n",
       "      <td>local</td>\n",
       "      <td>centro</td>\n",
       "      <td>medellin</td>\n",
       "      <td>6.252109</td>\n",
       "      <td>-75.567265</td>\n",
       "      <td>4</td>\n",
       "      <td>[{'id': 195, 'resource': 'a861db299cd5979816d1...</td>\n",
       "      <td>[{'id': 557546, 'value': '0', 'facility': {'id...</td>\n",
       "    </tr>\n",
       "    <tr>\n",
       "      <th>...</th>\n",
       "      <td>...</td>\n",
       "      <td>...</td>\n",
       "      <td>...</td>\n",
       "      <td>...</td>\n",
       "      <td>...</td>\n",
       "      <td>...</td>\n",
       "      <td>...</td>\n",
       "      <td>...</td>\n",
       "      <td>...</td>\n",
       "      <td>...</td>\n",
       "      <td>...</td>\n",
       "    </tr>\n",
       "    <tr>\n",
       "      <th>583</th>\n",
       "      <td>62877</td>\n",
       "      <td>800000</td>\n",
       "      <td>13613</td>\n",
       "      <td>apartamento</td>\n",
       "      <td>tricentenario</td>\n",
       "      <td>medellin</td>\n",
       "      <td>6.291108</td>\n",
       "      <td>-75.565718</td>\n",
       "      <td>3</td>\n",
       "      <td>[{'id': 38315, 'resource': 'dbd6737a156da45c18...</td>\n",
       "      <td>[{'id': 513777, 'value': '3', 'facility': {'id...</td>\n",
       "    </tr>\n",
       "    <tr>\n",
       "      <th>584</th>\n",
       "      <td>62879</td>\n",
       "      <td>1900000</td>\n",
       "      <td>34419</td>\n",
       "      <td>casa</td>\n",
       "      <td>laureles</td>\n",
       "      <td>medellin</td>\n",
       "      <td>6.238079</td>\n",
       "      <td>-75.594181</td>\n",
       "      <td>5</td>\n",
       "      <td>[{'id': 123487, 'resource': 'a1f28476c61a12a50...</td>\n",
       "      <td>[{'id': 625083, 'value': '3', 'facility': {'id...</td>\n",
       "    </tr>\n",
       "    <tr>\n",
       "      <th>585</th>\n",
       "      <td>62884</td>\n",
       "      <td>2200000</td>\n",
       "      <td>30704</td>\n",
       "      <td>local</td>\n",
       "      <td>centro</td>\n",
       "      <td>medellin</td>\n",
       "      <td>6.253478</td>\n",
       "      <td>-75.562653</td>\n",
       "      <td>4</td>\n",
       "      <td>[{'id': 4134, 'resource': 'b0826b182a028380f33...</td>\n",
       "      <td>[{'id': 569971, 'value': '2', 'facility': {'id...</td>\n",
       "    </tr>\n",
       "    <tr>\n",
       "      <th>586</th>\n",
       "      <td>62886</td>\n",
       "      <td>2500000</td>\n",
       "      <td>34422</td>\n",
       "      <td>casa</td>\n",
       "      <td>estadio</td>\n",
       "      <td>medellin</td>\n",
       "      <td>6.253917</td>\n",
       "      <td>-75.582674</td>\n",
       "      <td>5</td>\n",
       "      <td>[{'id': 123390, 'resource': 'ba06c381ed267fb7d...</td>\n",
       "      <td>[{'id': 625183, 'value': '0', 'facility': {'id...</td>\n",
       "    </tr>\n",
       "    <tr>\n",
       "      <th>587</th>\n",
       "      <td>62895</td>\n",
       "      <td>1000000</td>\n",
       "      <td>33373</td>\n",
       "      <td>casa</td>\n",
       "      <td>alfonso lopez</td>\n",
       "      <td>medellin</td>\n",
       "      <td>6.283695</td>\n",
       "      <td>-75.576573</td>\n",
       "      <td>3</td>\n",
       "      <td>[{'id': 39796, 'resource': '0a6a2de9c677bf3035...</td>\n",
       "      <td>[{'id': 608312, 'value': '3', 'facility': {'id...</td>\n",
       "    </tr>\n",
       "  </tbody>\n",
       "</table>\n",
       "<p>588 rows × 11 columns</p>\n",
       "</div>"
      ],
      "text/plain": [
       "     promotion_id promotion_rent  property_id         type  \\\n",
       "0           45975         500000        17957  apartamento   \n",
       "1           47237         680000        28978        local   \n",
       "2           50320         850000        21007         casa   \n",
       "3           50833        1000000         8446        local   \n",
       "4           51352        8500000        28820        local   \n",
       "..            ...            ...          ...          ...   \n",
       "583         62877         800000        13613  apartamento   \n",
       "584         62879        1900000        34419         casa   \n",
       "585         62884        2200000        30704        local   \n",
       "586         62886        2500000        34422         casa   \n",
       "587         62895        1000000        33373         casa   \n",
       "\n",
       "              neighborhood      city  latitude  longitude  stratum  \\\n",
       "0                   caribe  medellin  6.273039 -75.572224        3   \n",
       "1                   centro  medellin  6.256035 -75.571223        3   \n",
       "2    francisco antonio zea  medellin  6.286610 -75.573299        3   \n",
       "3                   itagui    itagui  6.190032 -75.597829        3   \n",
       "4                   centro  medellin  6.252109 -75.567265        4   \n",
       "..                     ...       ...       ...        ...      ...   \n",
       "583          tricentenario  medellin  6.291108 -75.565718        3   \n",
       "584               laureles  medellin  6.238079 -75.594181        5   \n",
       "585                 centro  medellin  6.253478 -75.562653        4   \n",
       "586                estadio  medellin  6.253917 -75.582674        5   \n",
       "587          alfonso lopez  medellin  6.283695 -75.576573        3   \n",
       "\n",
       "                                                images  \\\n",
       "0    [{'id': 5, 'resource': 'a861db299cd5979816d1ca...   \n",
       "1    [{'id': 14, 'resource': 'a861db299cd5979816d1c...   \n",
       "2    [{'id': 40266, 'resource': '79de9c8c1e9dd76919...   \n",
       "3    [{'id': 139, 'resource': '3f1fbec263afbcb6873b...   \n",
       "4    [{'id': 195, 'resource': 'a861db299cd5979816d1...   \n",
       "..                                                 ...   \n",
       "583  [{'id': 38315, 'resource': 'dbd6737a156da45c18...   \n",
       "584  [{'id': 123487, 'resource': 'a1f28476c61a12a50...   \n",
       "585  [{'id': 4134, 'resource': 'b0826b182a028380f33...   \n",
       "586  [{'id': 123390, 'resource': 'ba06c381ed267fb7d...   \n",
       "587  [{'id': 39796, 'resource': '0a6a2de9c677bf3035...   \n",
       "\n",
       "                                            facilities  \n",
       "0    [{'id': 525808, 'value': '2', 'facility': {'id...  \n",
       "1    [{'id': 558795, 'value': '2', 'facility': {'id...  \n",
       "2    [{'id': 608957, 'value': '3', 'facility': {'id...  \n",
       "3    [{'id': 506111, 'value': '0', 'facility': {'id...  \n",
       "4    [{'id': 557546, 'value': '0', 'facility': {'id...  \n",
       "..                                                 ...  \n",
       "583  [{'id': 513777, 'value': '3', 'facility': {'id...  \n",
       "584  [{'id': 625083, 'value': '3', 'facility': {'id...  \n",
       "585  [{'id': 569971, 'value': '2', 'facility': {'id...  \n",
       "586  [{'id': 625183, 'value': '0', 'facility': {'id...  \n",
       "587  [{'id': 608312, 'value': '3', 'facility': {'id...  \n",
       "\n",
       "[588 rows x 11 columns]"
      ]
     },
     "execution_count": 30,
     "metadata": {},
     "output_type": "execute_result"
    }
   ],
   "source": [
    "convert_to_int_columns(df, ['stratum'])"
   ]
  },
  {
   "cell_type": "code",
   "execution_count": 31,
   "metadata": {
    "id": "_y9vIn-YkAMY"
   },
   "outputs": [],
   "source": [
    "def convert_to_float_columns(df, cols):\n",
    "    df[cols] = df[cols].apply(lambda x: x.astype(float))\n",
    "    return df"
   ]
  },
  {
   "cell_type": "code",
   "execution_count": 32,
   "metadata": {
    "colab": {
     "base_uri": "https://localhost:8080/",
     "height": 589
    },
    "id": "Ec4oSQQUkAMb",
    "outputId": "5a45c52a-f608-419b-fab1-21cad8ffa023"
   },
   "outputs": [
    {
     "data": {
      "text/html": [
       "<div>\n",
       "<style scoped>\n",
       "    .dataframe tbody tr th:only-of-type {\n",
       "        vertical-align: middle;\n",
       "    }\n",
       "\n",
       "    .dataframe tbody tr th {\n",
       "        vertical-align: top;\n",
       "    }\n",
       "\n",
       "    .dataframe thead th {\n",
       "        text-align: right;\n",
       "    }\n",
       "</style>\n",
       "<table border=\"1\" class=\"dataframe\">\n",
       "  <thead>\n",
       "    <tr style=\"text-align: right;\">\n",
       "      <th></th>\n",
       "      <th>promotion_id</th>\n",
       "      <th>promotion_rent</th>\n",
       "      <th>property_id</th>\n",
       "      <th>type</th>\n",
       "      <th>neighborhood</th>\n",
       "      <th>city</th>\n",
       "      <th>latitude</th>\n",
       "      <th>longitude</th>\n",
       "      <th>stratum</th>\n",
       "      <th>images</th>\n",
       "      <th>facilities</th>\n",
       "    </tr>\n",
       "  </thead>\n",
       "  <tbody>\n",
       "    <tr>\n",
       "      <th>0</th>\n",
       "      <td>45975</td>\n",
       "      <td>500000</td>\n",
       "      <td>17957</td>\n",
       "      <td>apartamento</td>\n",
       "      <td>caribe</td>\n",
       "      <td>medellin</td>\n",
       "      <td>6.273039</td>\n",
       "      <td>-75.572224</td>\n",
       "      <td>3.0</td>\n",
       "      <td>[{'id': 5, 'resource': 'a861db299cd5979816d1ca...</td>\n",
       "      <td>[{'id': 525808, 'value': '2', 'facility': {'id...</td>\n",
       "    </tr>\n",
       "    <tr>\n",
       "      <th>1</th>\n",
       "      <td>47237</td>\n",
       "      <td>680000</td>\n",
       "      <td>28978</td>\n",
       "      <td>local</td>\n",
       "      <td>centro</td>\n",
       "      <td>medellin</td>\n",
       "      <td>6.256035</td>\n",
       "      <td>-75.571223</td>\n",
       "      <td>3.0</td>\n",
       "      <td>[{'id': 14, 'resource': 'a861db299cd5979816d1c...</td>\n",
       "      <td>[{'id': 558795, 'value': '2', 'facility': {'id...</td>\n",
       "    </tr>\n",
       "    <tr>\n",
       "      <th>2</th>\n",
       "      <td>50320</td>\n",
       "      <td>850000</td>\n",
       "      <td>21007</td>\n",
       "      <td>casa</td>\n",
       "      <td>francisco antonio zea</td>\n",
       "      <td>medellin</td>\n",
       "      <td>6.286610</td>\n",
       "      <td>-75.573299</td>\n",
       "      <td>3.0</td>\n",
       "      <td>[{'id': 40266, 'resource': '79de9c8c1e9dd76919...</td>\n",
       "      <td>[{'id': 608957, 'value': '3', 'facility': {'id...</td>\n",
       "    </tr>\n",
       "    <tr>\n",
       "      <th>3</th>\n",
       "      <td>50833</td>\n",
       "      <td>1000000</td>\n",
       "      <td>8446</td>\n",
       "      <td>local</td>\n",
       "      <td>itagui</td>\n",
       "      <td>itagui</td>\n",
       "      <td>6.190032</td>\n",
       "      <td>-75.597829</td>\n",
       "      <td>3.0</td>\n",
       "      <td>[{'id': 139, 'resource': '3f1fbec263afbcb6873b...</td>\n",
       "      <td>[{'id': 506111, 'value': '0', 'facility': {'id...</td>\n",
       "    </tr>\n",
       "    <tr>\n",
       "      <th>4</th>\n",
       "      <td>51352</td>\n",
       "      <td>8500000</td>\n",
       "      <td>28820</td>\n",
       "      <td>local</td>\n",
       "      <td>centro</td>\n",
       "      <td>medellin</td>\n",
       "      <td>6.252109</td>\n",
       "      <td>-75.567265</td>\n",
       "      <td>4.0</td>\n",
       "      <td>[{'id': 195, 'resource': 'a861db299cd5979816d1...</td>\n",
       "      <td>[{'id': 557546, 'value': '0', 'facility': {'id...</td>\n",
       "    </tr>\n",
       "    <tr>\n",
       "      <th>...</th>\n",
       "      <td>...</td>\n",
       "      <td>...</td>\n",
       "      <td>...</td>\n",
       "      <td>...</td>\n",
       "      <td>...</td>\n",
       "      <td>...</td>\n",
       "      <td>...</td>\n",
       "      <td>...</td>\n",
       "      <td>...</td>\n",
       "      <td>...</td>\n",
       "      <td>...</td>\n",
       "    </tr>\n",
       "    <tr>\n",
       "      <th>583</th>\n",
       "      <td>62877</td>\n",
       "      <td>800000</td>\n",
       "      <td>13613</td>\n",
       "      <td>apartamento</td>\n",
       "      <td>tricentenario</td>\n",
       "      <td>medellin</td>\n",
       "      <td>6.291108</td>\n",
       "      <td>-75.565718</td>\n",
       "      <td>3.0</td>\n",
       "      <td>[{'id': 38315, 'resource': 'dbd6737a156da45c18...</td>\n",
       "      <td>[{'id': 513777, 'value': '3', 'facility': {'id...</td>\n",
       "    </tr>\n",
       "    <tr>\n",
       "      <th>584</th>\n",
       "      <td>62879</td>\n",
       "      <td>1900000</td>\n",
       "      <td>34419</td>\n",
       "      <td>casa</td>\n",
       "      <td>laureles</td>\n",
       "      <td>medellin</td>\n",
       "      <td>6.238079</td>\n",
       "      <td>-75.594181</td>\n",
       "      <td>5.0</td>\n",
       "      <td>[{'id': 123487, 'resource': 'a1f28476c61a12a50...</td>\n",
       "      <td>[{'id': 625083, 'value': '3', 'facility': {'id...</td>\n",
       "    </tr>\n",
       "    <tr>\n",
       "      <th>585</th>\n",
       "      <td>62884</td>\n",
       "      <td>2200000</td>\n",
       "      <td>30704</td>\n",
       "      <td>local</td>\n",
       "      <td>centro</td>\n",
       "      <td>medellin</td>\n",
       "      <td>6.253478</td>\n",
       "      <td>-75.562653</td>\n",
       "      <td>4.0</td>\n",
       "      <td>[{'id': 4134, 'resource': 'b0826b182a028380f33...</td>\n",
       "      <td>[{'id': 569971, 'value': '2', 'facility': {'id...</td>\n",
       "    </tr>\n",
       "    <tr>\n",
       "      <th>586</th>\n",
       "      <td>62886</td>\n",
       "      <td>2500000</td>\n",
       "      <td>34422</td>\n",
       "      <td>casa</td>\n",
       "      <td>estadio</td>\n",
       "      <td>medellin</td>\n",
       "      <td>6.253917</td>\n",
       "      <td>-75.582674</td>\n",
       "      <td>5.0</td>\n",
       "      <td>[{'id': 123390, 'resource': 'ba06c381ed267fb7d...</td>\n",
       "      <td>[{'id': 625183, 'value': '0', 'facility': {'id...</td>\n",
       "    </tr>\n",
       "    <tr>\n",
       "      <th>587</th>\n",
       "      <td>62895</td>\n",
       "      <td>1000000</td>\n",
       "      <td>33373</td>\n",
       "      <td>casa</td>\n",
       "      <td>alfonso lopez</td>\n",
       "      <td>medellin</td>\n",
       "      <td>6.283695</td>\n",
       "      <td>-75.576573</td>\n",
       "      <td>3.0</td>\n",
       "      <td>[{'id': 39796, 'resource': '0a6a2de9c677bf3035...</td>\n",
       "      <td>[{'id': 608312, 'value': '3', 'facility': {'id...</td>\n",
       "    </tr>\n",
       "  </tbody>\n",
       "</table>\n",
       "<p>588 rows × 11 columns</p>\n",
       "</div>"
      ],
      "text/plain": [
       "     promotion_id promotion_rent  property_id         type  \\\n",
       "0           45975         500000        17957  apartamento   \n",
       "1           47237         680000        28978        local   \n",
       "2           50320         850000        21007         casa   \n",
       "3           50833        1000000         8446        local   \n",
       "4           51352        8500000        28820        local   \n",
       "..            ...            ...          ...          ...   \n",
       "583         62877         800000        13613  apartamento   \n",
       "584         62879        1900000        34419         casa   \n",
       "585         62884        2200000        30704        local   \n",
       "586         62886        2500000        34422         casa   \n",
       "587         62895        1000000        33373         casa   \n",
       "\n",
       "              neighborhood      city  latitude  longitude  stratum  \\\n",
       "0                   caribe  medellin  6.273039 -75.572224      3.0   \n",
       "1                   centro  medellin  6.256035 -75.571223      3.0   \n",
       "2    francisco antonio zea  medellin  6.286610 -75.573299      3.0   \n",
       "3                   itagui    itagui  6.190032 -75.597829      3.0   \n",
       "4                   centro  medellin  6.252109 -75.567265      4.0   \n",
       "..                     ...       ...       ...        ...      ...   \n",
       "583          tricentenario  medellin  6.291108 -75.565718      3.0   \n",
       "584               laureles  medellin  6.238079 -75.594181      5.0   \n",
       "585                 centro  medellin  6.253478 -75.562653      4.0   \n",
       "586                estadio  medellin  6.253917 -75.582674      5.0   \n",
       "587          alfonso lopez  medellin  6.283695 -75.576573      3.0   \n",
       "\n",
       "                                                images  \\\n",
       "0    [{'id': 5, 'resource': 'a861db299cd5979816d1ca...   \n",
       "1    [{'id': 14, 'resource': 'a861db299cd5979816d1c...   \n",
       "2    [{'id': 40266, 'resource': '79de9c8c1e9dd76919...   \n",
       "3    [{'id': 139, 'resource': '3f1fbec263afbcb6873b...   \n",
       "4    [{'id': 195, 'resource': 'a861db299cd5979816d1...   \n",
       "..                                                 ...   \n",
       "583  [{'id': 38315, 'resource': 'dbd6737a156da45c18...   \n",
       "584  [{'id': 123487, 'resource': 'a1f28476c61a12a50...   \n",
       "585  [{'id': 4134, 'resource': 'b0826b182a028380f33...   \n",
       "586  [{'id': 123390, 'resource': 'ba06c381ed267fb7d...   \n",
       "587  [{'id': 39796, 'resource': '0a6a2de9c677bf3035...   \n",
       "\n",
       "                                            facilities  \n",
       "0    [{'id': 525808, 'value': '2', 'facility': {'id...  \n",
       "1    [{'id': 558795, 'value': '2', 'facility': {'id...  \n",
       "2    [{'id': 608957, 'value': '3', 'facility': {'id...  \n",
       "3    [{'id': 506111, 'value': '0', 'facility': {'id...  \n",
       "4    [{'id': 557546, 'value': '0', 'facility': {'id...  \n",
       "..                                                 ...  \n",
       "583  [{'id': 513777, 'value': '3', 'facility': {'id...  \n",
       "584  [{'id': 625083, 'value': '3', 'facility': {'id...  \n",
       "585  [{'id': 569971, 'value': '2', 'facility': {'id...  \n",
       "586  [{'id': 625183, 'value': '0', 'facility': {'id...  \n",
       "587  [{'id': 608312, 'value': '3', 'facility': {'id...  \n",
       "\n",
       "[588 rows x 11 columns]"
      ]
     },
     "execution_count": 32,
     "metadata": {},
     "output_type": "execute_result"
    }
   ],
   "source": [
    "convert_to_float_columns(df, ['stratum'])"
   ]
  },
  {
   "cell_type": "code",
   "execution_count": 33,
   "metadata": {
    "id": "T6wJ3rWvkAMf"
   },
   "outputs": [],
   "source": [
    "def fillna_columns(df, cols, value):\n",
    "    df[cols] = df[cols].apply(lambda x: x.fillna(value))\n",
    "    return df"
   ]
  },
  {
   "cell_type": "code",
   "execution_count": 34,
   "metadata": {
    "colab": {
     "base_uri": "https://localhost:8080/",
     "height": 589
    },
    "id": "JBkn-a3mkAMi",
    "outputId": "22a9e58e-2f16-4b09-9b2a-30706d367cdd"
   },
   "outputs": [
    {
     "data": {
      "text/html": [
       "<div>\n",
       "<style scoped>\n",
       "    .dataframe tbody tr th:only-of-type {\n",
       "        vertical-align: middle;\n",
       "    }\n",
       "\n",
       "    .dataframe tbody tr th {\n",
       "        vertical-align: top;\n",
       "    }\n",
       "\n",
       "    .dataframe thead th {\n",
       "        text-align: right;\n",
       "    }\n",
       "</style>\n",
       "<table border=\"1\" class=\"dataframe\">\n",
       "  <thead>\n",
       "    <tr style=\"text-align: right;\">\n",
       "      <th></th>\n",
       "      <th>promotion_id</th>\n",
       "      <th>promotion_rent</th>\n",
       "      <th>property_id</th>\n",
       "      <th>type</th>\n",
       "      <th>neighborhood</th>\n",
       "      <th>city</th>\n",
       "      <th>latitude</th>\n",
       "      <th>longitude</th>\n",
       "      <th>stratum</th>\n",
       "      <th>images</th>\n",
       "      <th>facilities</th>\n",
       "    </tr>\n",
       "  </thead>\n",
       "  <tbody>\n",
       "    <tr>\n",
       "      <th>0</th>\n",
       "      <td>45975</td>\n",
       "      <td>500000</td>\n",
       "      <td>17957</td>\n",
       "      <td>apartamento</td>\n",
       "      <td>caribe</td>\n",
       "      <td>medellin</td>\n",
       "      <td>6.273039</td>\n",
       "      <td>-75.572224</td>\n",
       "      <td>3.0</td>\n",
       "      <td>[{'id': 5, 'resource': 'a861db299cd5979816d1ca...</td>\n",
       "      <td>[{'id': 525808, 'value': '2', 'facility': {'id...</td>\n",
       "    </tr>\n",
       "    <tr>\n",
       "      <th>1</th>\n",
       "      <td>47237</td>\n",
       "      <td>680000</td>\n",
       "      <td>28978</td>\n",
       "      <td>local</td>\n",
       "      <td>centro</td>\n",
       "      <td>medellin</td>\n",
       "      <td>6.256035</td>\n",
       "      <td>-75.571223</td>\n",
       "      <td>3.0</td>\n",
       "      <td>[{'id': 14, 'resource': 'a861db299cd5979816d1c...</td>\n",
       "      <td>[{'id': 558795, 'value': '2', 'facility': {'id...</td>\n",
       "    </tr>\n",
       "    <tr>\n",
       "      <th>2</th>\n",
       "      <td>50320</td>\n",
       "      <td>850000</td>\n",
       "      <td>21007</td>\n",
       "      <td>casa</td>\n",
       "      <td>francisco antonio zea</td>\n",
       "      <td>medellin</td>\n",
       "      <td>6.286610</td>\n",
       "      <td>-75.573299</td>\n",
       "      <td>3.0</td>\n",
       "      <td>[{'id': 40266, 'resource': '79de9c8c1e9dd76919...</td>\n",
       "      <td>[{'id': 608957, 'value': '3', 'facility': {'id...</td>\n",
       "    </tr>\n",
       "    <tr>\n",
       "      <th>3</th>\n",
       "      <td>50833</td>\n",
       "      <td>1000000</td>\n",
       "      <td>8446</td>\n",
       "      <td>local</td>\n",
       "      <td>itagui</td>\n",
       "      <td>itagui</td>\n",
       "      <td>6.190032</td>\n",
       "      <td>-75.597829</td>\n",
       "      <td>3.0</td>\n",
       "      <td>[{'id': 139, 'resource': '3f1fbec263afbcb6873b...</td>\n",
       "      <td>[{'id': 506111, 'value': '0', 'facility': {'id...</td>\n",
       "    </tr>\n",
       "    <tr>\n",
       "      <th>4</th>\n",
       "      <td>51352</td>\n",
       "      <td>8500000</td>\n",
       "      <td>28820</td>\n",
       "      <td>local</td>\n",
       "      <td>centro</td>\n",
       "      <td>medellin</td>\n",
       "      <td>6.252109</td>\n",
       "      <td>-75.567265</td>\n",
       "      <td>4.0</td>\n",
       "      <td>[{'id': 195, 'resource': 'a861db299cd5979816d1...</td>\n",
       "      <td>[{'id': 557546, 'value': '0', 'facility': {'id...</td>\n",
       "    </tr>\n",
       "    <tr>\n",
       "      <th>...</th>\n",
       "      <td>...</td>\n",
       "      <td>...</td>\n",
       "      <td>...</td>\n",
       "      <td>...</td>\n",
       "      <td>...</td>\n",
       "      <td>...</td>\n",
       "      <td>...</td>\n",
       "      <td>...</td>\n",
       "      <td>...</td>\n",
       "      <td>...</td>\n",
       "      <td>...</td>\n",
       "    </tr>\n",
       "    <tr>\n",
       "      <th>583</th>\n",
       "      <td>62877</td>\n",
       "      <td>800000</td>\n",
       "      <td>13613</td>\n",
       "      <td>apartamento</td>\n",
       "      <td>tricentenario</td>\n",
       "      <td>medellin</td>\n",
       "      <td>6.291108</td>\n",
       "      <td>-75.565718</td>\n",
       "      <td>3.0</td>\n",
       "      <td>[{'id': 38315, 'resource': 'dbd6737a156da45c18...</td>\n",
       "      <td>[{'id': 513777, 'value': '3', 'facility': {'id...</td>\n",
       "    </tr>\n",
       "    <tr>\n",
       "      <th>584</th>\n",
       "      <td>62879</td>\n",
       "      <td>1900000</td>\n",
       "      <td>34419</td>\n",
       "      <td>casa</td>\n",
       "      <td>laureles</td>\n",
       "      <td>medellin</td>\n",
       "      <td>6.238079</td>\n",
       "      <td>-75.594181</td>\n",
       "      <td>5.0</td>\n",
       "      <td>[{'id': 123487, 'resource': 'a1f28476c61a12a50...</td>\n",
       "      <td>[{'id': 625083, 'value': '3', 'facility': {'id...</td>\n",
       "    </tr>\n",
       "    <tr>\n",
       "      <th>585</th>\n",
       "      <td>62884</td>\n",
       "      <td>2200000</td>\n",
       "      <td>30704</td>\n",
       "      <td>local</td>\n",
       "      <td>centro</td>\n",
       "      <td>medellin</td>\n",
       "      <td>6.253478</td>\n",
       "      <td>-75.562653</td>\n",
       "      <td>4.0</td>\n",
       "      <td>[{'id': 4134, 'resource': 'b0826b182a028380f33...</td>\n",
       "      <td>[{'id': 569971, 'value': '2', 'facility': {'id...</td>\n",
       "    </tr>\n",
       "    <tr>\n",
       "      <th>586</th>\n",
       "      <td>62886</td>\n",
       "      <td>2500000</td>\n",
       "      <td>34422</td>\n",
       "      <td>casa</td>\n",
       "      <td>estadio</td>\n",
       "      <td>medellin</td>\n",
       "      <td>6.253917</td>\n",
       "      <td>-75.582674</td>\n",
       "      <td>5.0</td>\n",
       "      <td>[{'id': 123390, 'resource': 'ba06c381ed267fb7d...</td>\n",
       "      <td>[{'id': 625183, 'value': '0', 'facility': {'id...</td>\n",
       "    </tr>\n",
       "    <tr>\n",
       "      <th>587</th>\n",
       "      <td>62895</td>\n",
       "      <td>1000000</td>\n",
       "      <td>33373</td>\n",
       "      <td>casa</td>\n",
       "      <td>alfonso lopez</td>\n",
       "      <td>medellin</td>\n",
       "      <td>6.283695</td>\n",
       "      <td>-75.576573</td>\n",
       "      <td>3.0</td>\n",
       "      <td>[{'id': 39796, 'resource': '0a6a2de9c677bf3035...</td>\n",
       "      <td>[{'id': 608312, 'value': '3', 'facility': {'id...</td>\n",
       "    </tr>\n",
       "  </tbody>\n",
       "</table>\n",
       "<p>588 rows × 11 columns</p>\n",
       "</div>"
      ],
      "text/plain": [
       "     promotion_id promotion_rent  property_id         type  \\\n",
       "0           45975         500000        17957  apartamento   \n",
       "1           47237         680000        28978        local   \n",
       "2           50320         850000        21007         casa   \n",
       "3           50833        1000000         8446        local   \n",
       "4           51352        8500000        28820        local   \n",
       "..            ...            ...          ...          ...   \n",
       "583         62877         800000        13613  apartamento   \n",
       "584         62879        1900000        34419         casa   \n",
       "585         62884        2200000        30704        local   \n",
       "586         62886        2500000        34422         casa   \n",
       "587         62895        1000000        33373         casa   \n",
       "\n",
       "              neighborhood      city  latitude  longitude  stratum  \\\n",
       "0                   caribe  medellin  6.273039 -75.572224      3.0   \n",
       "1                   centro  medellin  6.256035 -75.571223      3.0   \n",
       "2    francisco antonio zea  medellin  6.286610 -75.573299      3.0   \n",
       "3                   itagui    itagui  6.190032 -75.597829      3.0   \n",
       "4                   centro  medellin  6.252109 -75.567265      4.0   \n",
       "..                     ...       ...       ...        ...      ...   \n",
       "583          tricentenario  medellin  6.291108 -75.565718      3.0   \n",
       "584               laureles  medellin  6.238079 -75.594181      5.0   \n",
       "585                 centro  medellin  6.253478 -75.562653      4.0   \n",
       "586                estadio  medellin  6.253917 -75.582674      5.0   \n",
       "587          alfonso lopez  medellin  6.283695 -75.576573      3.0   \n",
       "\n",
       "                                                images  \\\n",
       "0    [{'id': 5, 'resource': 'a861db299cd5979816d1ca...   \n",
       "1    [{'id': 14, 'resource': 'a861db299cd5979816d1c...   \n",
       "2    [{'id': 40266, 'resource': '79de9c8c1e9dd76919...   \n",
       "3    [{'id': 139, 'resource': '3f1fbec263afbcb6873b...   \n",
       "4    [{'id': 195, 'resource': 'a861db299cd5979816d1...   \n",
       "..                                                 ...   \n",
       "583  [{'id': 38315, 'resource': 'dbd6737a156da45c18...   \n",
       "584  [{'id': 123487, 'resource': 'a1f28476c61a12a50...   \n",
       "585  [{'id': 4134, 'resource': 'b0826b182a028380f33...   \n",
       "586  [{'id': 123390, 'resource': 'ba06c381ed267fb7d...   \n",
       "587  [{'id': 39796, 'resource': '0a6a2de9c677bf3035...   \n",
       "\n",
       "                                            facilities  \n",
       "0    [{'id': 525808, 'value': '2', 'facility': {'id...  \n",
       "1    [{'id': 558795, 'value': '2', 'facility': {'id...  \n",
       "2    [{'id': 608957, 'value': '3', 'facility': {'id...  \n",
       "3    [{'id': 506111, 'value': '0', 'facility': {'id...  \n",
       "4    [{'id': 557546, 'value': '0', 'facility': {'id...  \n",
       "..                                                 ...  \n",
       "583  [{'id': 513777, 'value': '3', 'facility': {'id...  \n",
       "584  [{'id': 625083, 'value': '3', 'facility': {'id...  \n",
       "585  [{'id': 569971, 'value': '2', 'facility': {'id...  \n",
       "586  [{'id': 625183, 'value': '0', 'facility': {'id...  \n",
       "587  [{'id': 608312, 'value': '3', 'facility': {'id...  \n",
       "\n",
       "[588 rows x 11 columns]"
      ]
     },
     "execution_count": 34,
     "metadata": {},
     "output_type": "execute_result"
    }
   ],
   "source": [
    "fillna_columns(df, ['latitude', 'longitude'], 0.0)"
   ]
  },
  {
   "cell_type": "markdown",
   "metadata": {
    "id": "8drpldYGkAMl"
   },
   "source": [
    "### Extract images"
   ]
  },
  {
   "cell_type": "code",
   "execution_count": 35,
   "metadata": {
    "id": "5GxK1beBkAMm"
   },
   "outputs": [],
   "source": [
    "data = df.to_dict('records')"
   ]
  },
  {
   "cell_type": "code",
   "execution_count": 36,
   "metadata": {
    "id": "Ziwmq3MQkAMq"
   },
   "outputs": [],
   "source": [
    "from pandas.io.json import json_normalize"
   ]
  },
  {
   "cell_type": "code",
   "execution_count": 37,
   "metadata": {
    "colab": {
     "base_uri": "https://localhost:8080/"
    },
    "id": "gXmfvJNlkAMv",
    "outputId": "84e43d94-6f70-4674-bcb1-d99287e0ff0f"
   },
   "outputs": [
    {
     "name": "stderr",
     "output_type": "stream",
     "text": [
      "<ipython-input-37-a0b3269d8d9b>:1: FutureWarning: pandas.io.json.json_normalize is deprecated, use pandas.json_normalize instead\n",
      "  df_images = json_normalize(data, record_path='images', meta=['promotion_id', 'property_id'])\n"
     ]
    }
   ],
   "source": [
    "df_images = json_normalize(data, record_path='images', meta=['promotion_id', 'property_id'])"
   ]
  },
  {
   "cell_type": "code",
   "execution_count": 38,
   "metadata": {
    "id": "u4QJuYWakAMy"
   },
   "outputs": [],
   "source": [
    "df_images.drop(columns = ['id'], inplace = True)"
   ]
  },
  {
   "cell_type": "code",
   "execution_count": 39,
   "metadata": {
    "colab": {
     "base_uri": "https://localhost:8080/",
     "height": 204
    },
    "id": "JJY048ImkAM2",
    "outputId": "3f451ef7-7f5f-43e9-cbd8-3d8b224830c1"
   },
   "outputs": [
    {
     "data": {
      "text/html": [
       "<div>\n",
       "<style scoped>\n",
       "    .dataframe tbody tr th:only-of-type {\n",
       "        vertical-align: middle;\n",
       "    }\n",
       "\n",
       "    .dataframe tbody tr th {\n",
       "        vertical-align: top;\n",
       "    }\n",
       "\n",
       "    .dataframe thead th {\n",
       "        text-align: right;\n",
       "    }\n",
       "</style>\n",
       "<table border=\"1\" class=\"dataframe\">\n",
       "  <thead>\n",
       "    <tr style=\"text-align: right;\">\n",
       "      <th></th>\n",
       "      <th>resource</th>\n",
       "      <th>main</th>\n",
       "      <th>promotion_id</th>\n",
       "      <th>property_id</th>\n",
       "    </tr>\n",
       "  </thead>\n",
       "  <tbody>\n",
       "    <tr>\n",
       "      <th>0</th>\n",
       "      <td>a861db299cd5979816d1cad6f6baaeb4.jpg</td>\n",
       "      <td>False</td>\n",
       "      <td>45975</td>\n",
       "      <td>17957</td>\n",
       "    </tr>\n",
       "    <tr>\n",
       "      <th>1</th>\n",
       "      <td>dd64b37838f389e5f61ed46194aec023.jpg</td>\n",
       "      <td>False</td>\n",
       "      <td>45975</td>\n",
       "      <td>17957</td>\n",
       "    </tr>\n",
       "    <tr>\n",
       "      <th>2</th>\n",
       "      <td>98d38ff7ac3cfba8c853cb4be8dbf2e0.jpg</td>\n",
       "      <td>False</td>\n",
       "      <td>45975</td>\n",
       "      <td>17957</td>\n",
       "    </tr>\n",
       "    <tr>\n",
       "      <th>3</th>\n",
       "      <td>0752117deeffb228abc311287ca3a764.jpg</td>\n",
       "      <td>False</td>\n",
       "      <td>45975</td>\n",
       "      <td>17957</td>\n",
       "    </tr>\n",
       "    <tr>\n",
       "      <th>4</th>\n",
       "      <td>09c1b3b1527f9164683f2ab55d850add.jpg</td>\n",
       "      <td>False</td>\n",
       "      <td>45975</td>\n",
       "      <td>17957</td>\n",
       "    </tr>\n",
       "  </tbody>\n",
       "</table>\n",
       "</div>"
      ],
      "text/plain": [
       "                               resource   main promotion_id property_id\n",
       "0  a861db299cd5979816d1cad6f6baaeb4.jpg  False        45975       17957\n",
       "1  dd64b37838f389e5f61ed46194aec023.jpg  False        45975       17957\n",
       "2  98d38ff7ac3cfba8c853cb4be8dbf2e0.jpg  False        45975       17957\n",
       "3  0752117deeffb228abc311287ca3a764.jpg  False        45975       17957\n",
       "4  09c1b3b1527f9164683f2ab55d850add.jpg  False        45975       17957"
      ]
     },
     "execution_count": 39,
     "metadata": {},
     "output_type": "execute_result"
    }
   ],
   "source": [
    "df_images.head()"
   ]
  },
  {
   "cell_type": "code",
   "execution_count": 40,
   "metadata": {
    "id": "lAvHxxQykAM5"
   },
   "outputs": [],
   "source": [
    "df_images['url'] = 'https://assets.arrendamientosnutibara.com/spaces/images/' + df_images['property_id'].astype(str) + '/720' + df_images['resource']"
   ]
  },
  {
   "cell_type": "code",
   "execution_count": 41,
   "metadata": {
    "id": "QGA3E1SnkAM-"
   },
   "outputs": [],
   "source": [
    "df_images = df_images.drop(columns = ['resource'])"
   ]
  },
  {
   "cell_type": "code",
   "execution_count": 42,
   "metadata": {
    "colab": {
     "base_uri": "https://localhost:8080/",
     "height": 419
    },
    "id": "JQnSJDqUkANF",
    "outputId": "eb8ff1bb-500c-4e75-c014-722b3cf63f19"
   },
   "outputs": [
    {
     "data": {
      "text/html": [
       "<div>\n",
       "<style scoped>\n",
       "    .dataframe tbody tr th:only-of-type {\n",
       "        vertical-align: middle;\n",
       "    }\n",
       "\n",
       "    .dataframe tbody tr th {\n",
       "        vertical-align: top;\n",
       "    }\n",
       "\n",
       "    .dataframe thead th {\n",
       "        text-align: right;\n",
       "    }\n",
       "</style>\n",
       "<table border=\"1\" class=\"dataframe\">\n",
       "  <thead>\n",
       "    <tr style=\"text-align: right;\">\n",
       "      <th></th>\n",
       "      <th>main</th>\n",
       "      <th>promotion_id</th>\n",
       "      <th>property_id</th>\n",
       "      <th>url</th>\n",
       "    </tr>\n",
       "  </thead>\n",
       "  <tbody>\n",
       "    <tr>\n",
       "      <th>0</th>\n",
       "      <td>False</td>\n",
       "      <td>45975</td>\n",
       "      <td>17957</td>\n",
       "      <td>https://assets.arrendamientosnutibara.com/spac...</td>\n",
       "    </tr>\n",
       "    <tr>\n",
       "      <th>1</th>\n",
       "      <td>False</td>\n",
       "      <td>45975</td>\n",
       "      <td>17957</td>\n",
       "      <td>https://assets.arrendamientosnutibara.com/spac...</td>\n",
       "    </tr>\n",
       "    <tr>\n",
       "      <th>2</th>\n",
       "      <td>False</td>\n",
       "      <td>45975</td>\n",
       "      <td>17957</td>\n",
       "      <td>https://assets.arrendamientosnutibara.com/spac...</td>\n",
       "    </tr>\n",
       "    <tr>\n",
       "      <th>3</th>\n",
       "      <td>False</td>\n",
       "      <td>45975</td>\n",
       "      <td>17957</td>\n",
       "      <td>https://assets.arrendamientosnutibara.com/spac...</td>\n",
       "    </tr>\n",
       "    <tr>\n",
       "      <th>4</th>\n",
       "      <td>False</td>\n",
       "      <td>45975</td>\n",
       "      <td>17957</td>\n",
       "      <td>https://assets.arrendamientosnutibara.com/spac...</td>\n",
       "    </tr>\n",
       "    <tr>\n",
       "      <th>...</th>\n",
       "      <td>...</td>\n",
       "      <td>...</td>\n",
       "      <td>...</td>\n",
       "      <td>...</td>\n",
       "    </tr>\n",
       "    <tr>\n",
       "      <th>5224</th>\n",
       "      <td>False</td>\n",
       "      <td>62895</td>\n",
       "      <td>33373</td>\n",
       "      <td>https://assets.arrendamientosnutibara.com/spac...</td>\n",
       "    </tr>\n",
       "    <tr>\n",
       "      <th>5225</th>\n",
       "      <td>False</td>\n",
       "      <td>62895</td>\n",
       "      <td>33373</td>\n",
       "      <td>https://assets.arrendamientosnutibara.com/spac...</td>\n",
       "    </tr>\n",
       "    <tr>\n",
       "      <th>5226</th>\n",
       "      <td>False</td>\n",
       "      <td>62895</td>\n",
       "      <td>33373</td>\n",
       "      <td>https://assets.arrendamientosnutibara.com/spac...</td>\n",
       "    </tr>\n",
       "    <tr>\n",
       "      <th>5227</th>\n",
       "      <td>False</td>\n",
       "      <td>62895</td>\n",
       "      <td>33373</td>\n",
       "      <td>https://assets.arrendamientosnutibara.com/spac...</td>\n",
       "    </tr>\n",
       "    <tr>\n",
       "      <th>5228</th>\n",
       "      <td>True</td>\n",
       "      <td>62895</td>\n",
       "      <td>33373</td>\n",
       "      <td>https://assets.arrendamientosnutibara.com/spac...</td>\n",
       "    </tr>\n",
       "  </tbody>\n",
       "</table>\n",
       "<p>5229 rows × 4 columns</p>\n",
       "</div>"
      ],
      "text/plain": [
       "       main promotion_id property_id  \\\n",
       "0     False        45975       17957   \n",
       "1     False        45975       17957   \n",
       "2     False        45975       17957   \n",
       "3     False        45975       17957   \n",
       "4     False        45975       17957   \n",
       "...     ...          ...         ...   \n",
       "5224  False        62895       33373   \n",
       "5225  False        62895       33373   \n",
       "5226  False        62895       33373   \n",
       "5227  False        62895       33373   \n",
       "5228   True        62895       33373   \n",
       "\n",
       "                                                    url  \n",
       "0     https://assets.arrendamientosnutibara.com/spac...  \n",
       "1     https://assets.arrendamientosnutibara.com/spac...  \n",
       "2     https://assets.arrendamientosnutibara.com/spac...  \n",
       "3     https://assets.arrendamientosnutibara.com/spac...  \n",
       "4     https://assets.arrendamientosnutibara.com/spac...  \n",
       "...                                                 ...  \n",
       "5224  https://assets.arrendamientosnutibara.com/spac...  \n",
       "5225  https://assets.arrendamientosnutibara.com/spac...  \n",
       "5226  https://assets.arrendamientosnutibara.com/spac...  \n",
       "5227  https://assets.arrendamientosnutibara.com/spac...  \n",
       "5228  https://assets.arrendamientosnutibara.com/spac...  \n",
       "\n",
       "[5229 rows x 4 columns]"
      ]
     },
     "execution_count": 42,
     "metadata": {},
     "output_type": "execute_result"
    }
   ],
   "source": [
    "df_images"
   ]
  },
  {
   "cell_type": "code",
   "execution_count": 43,
   "metadata": {
    "id": "xd7midUWkANI"
   },
   "outputs": [],
   "source": [
    "images = df_images.to_dict('records')"
   ]
  },
  {
   "cell_type": "code",
   "execution_count": 44,
   "metadata": {
    "id": "joOcThn6kANN"
   },
   "outputs": [],
   "source": [
    "sorted_list = sorted(images, key=lambda x: x['main'] == True, reverse=True)"
   ]
  },
  {
   "cell_type": "code",
   "execution_count": 45,
   "metadata": {
    "id": "d5i3xMiekANR"
   },
   "outputs": [],
   "source": [
    "df_images = pd.DataFrame(sorted_list)"
   ]
  },
  {
   "cell_type": "code",
   "execution_count": 46,
   "metadata": {
    "colab": {
     "base_uri": "https://localhost:8080/",
     "height": 419
    },
    "id": "qNFRLNj3kANW",
    "outputId": "542f1c78-35c4-4616-8418-86fd640bafa5"
   },
   "outputs": [
    {
     "data": {
      "text/html": [
       "<div>\n",
       "<style scoped>\n",
       "    .dataframe tbody tr th:only-of-type {\n",
       "        vertical-align: middle;\n",
       "    }\n",
       "\n",
       "    .dataframe tbody tr th {\n",
       "        vertical-align: top;\n",
       "    }\n",
       "\n",
       "    .dataframe thead th {\n",
       "        text-align: right;\n",
       "    }\n",
       "</style>\n",
       "<table border=\"1\" class=\"dataframe\">\n",
       "  <thead>\n",
       "    <tr style=\"text-align: right;\">\n",
       "      <th></th>\n",
       "      <th>main</th>\n",
       "      <th>promotion_id</th>\n",
       "      <th>property_id</th>\n",
       "      <th>url</th>\n",
       "    </tr>\n",
       "  </thead>\n",
       "  <tbody>\n",
       "    <tr>\n",
       "      <th>0</th>\n",
       "      <td>True</td>\n",
       "      <td>45975</td>\n",
       "      <td>17957</td>\n",
       "      <td>https://assets.arrendamientosnutibara.com/spac...</td>\n",
       "    </tr>\n",
       "    <tr>\n",
       "      <th>1</th>\n",
       "      <td>True</td>\n",
       "      <td>47237</td>\n",
       "      <td>28978</td>\n",
       "      <td>https://assets.arrendamientosnutibara.com/spac...</td>\n",
       "    </tr>\n",
       "    <tr>\n",
       "      <th>2</th>\n",
       "      <td>True</td>\n",
       "      <td>50320</td>\n",
       "      <td>21007</td>\n",
       "      <td>https://assets.arrendamientosnutibara.com/spac...</td>\n",
       "    </tr>\n",
       "    <tr>\n",
       "      <th>3</th>\n",
       "      <td>True</td>\n",
       "      <td>50833</td>\n",
       "      <td>8446</td>\n",
       "      <td>https://assets.arrendamientosnutibara.com/spac...</td>\n",
       "    </tr>\n",
       "    <tr>\n",
       "      <th>4</th>\n",
       "      <td>True</td>\n",
       "      <td>51352</td>\n",
       "      <td>28820</td>\n",
       "      <td>https://assets.arrendamientosnutibara.com/spac...</td>\n",
       "    </tr>\n",
       "    <tr>\n",
       "      <th>...</th>\n",
       "      <td>...</td>\n",
       "      <td>...</td>\n",
       "      <td>...</td>\n",
       "      <td>...</td>\n",
       "    </tr>\n",
       "    <tr>\n",
       "      <th>5224</th>\n",
       "      <td>False</td>\n",
       "      <td>62895</td>\n",
       "      <td>33373</td>\n",
       "      <td>https://assets.arrendamientosnutibara.com/spac...</td>\n",
       "    </tr>\n",
       "    <tr>\n",
       "      <th>5225</th>\n",
       "      <td>False</td>\n",
       "      <td>62895</td>\n",
       "      <td>33373</td>\n",
       "      <td>https://assets.arrendamientosnutibara.com/spac...</td>\n",
       "    </tr>\n",
       "    <tr>\n",
       "      <th>5226</th>\n",
       "      <td>False</td>\n",
       "      <td>62895</td>\n",
       "      <td>33373</td>\n",
       "      <td>https://assets.arrendamientosnutibara.com/spac...</td>\n",
       "    </tr>\n",
       "    <tr>\n",
       "      <th>5227</th>\n",
       "      <td>False</td>\n",
       "      <td>62895</td>\n",
       "      <td>33373</td>\n",
       "      <td>https://assets.arrendamientosnutibara.com/spac...</td>\n",
       "    </tr>\n",
       "    <tr>\n",
       "      <th>5228</th>\n",
       "      <td>False</td>\n",
       "      <td>62895</td>\n",
       "      <td>33373</td>\n",
       "      <td>https://assets.arrendamientosnutibara.com/spac...</td>\n",
       "    </tr>\n",
       "  </tbody>\n",
       "</table>\n",
       "<p>5229 rows × 4 columns</p>\n",
       "</div>"
      ],
      "text/plain": [
       "       main  promotion_id  property_id  \\\n",
       "0      True         45975        17957   \n",
       "1      True         47237        28978   \n",
       "2      True         50320        21007   \n",
       "3      True         50833         8446   \n",
       "4      True         51352        28820   \n",
       "...     ...           ...          ...   \n",
       "5224  False         62895        33373   \n",
       "5225  False         62895        33373   \n",
       "5226  False         62895        33373   \n",
       "5227  False         62895        33373   \n",
       "5228  False         62895        33373   \n",
       "\n",
       "                                                    url  \n",
       "0     https://assets.arrendamientosnutibara.com/spac...  \n",
       "1     https://assets.arrendamientosnutibara.com/spac...  \n",
       "2     https://assets.arrendamientosnutibara.com/spac...  \n",
       "3     https://assets.arrendamientosnutibara.com/spac...  \n",
       "4     https://assets.arrendamientosnutibara.com/spac...  \n",
       "...                                                 ...  \n",
       "5224  https://assets.arrendamientosnutibara.com/spac...  \n",
       "5225  https://assets.arrendamientosnutibara.com/spac...  \n",
       "5226  https://assets.arrendamientosnutibara.com/spac...  \n",
       "5227  https://assets.arrendamientosnutibara.com/spac...  \n",
       "5228  https://assets.arrendamientosnutibara.com/spac...  \n",
       "\n",
       "[5229 rows x 4 columns]"
      ]
     },
     "execution_count": 46,
     "metadata": {},
     "output_type": "execute_result"
    }
   ],
   "source": [
    "df_images"
   ]
  },
  {
   "cell_type": "code",
   "execution_count": 47,
   "metadata": {
    "id": "JoAHeppCkANa"
   },
   "outputs": [],
   "source": [
    "df_images = df_images.groupby('promotion_id')['url'].apply(list).reset_index(name='images')"
   ]
  },
  {
   "cell_type": "code",
   "execution_count": 48,
   "metadata": {
    "id": "jy_jtlwWkANd"
   },
   "outputs": [],
   "source": [
    "df = df.drop(columns = ['images'])"
   ]
  },
  {
   "cell_type": "code",
   "execution_count": 49,
   "metadata": {
    "id": "hdrdP7VukANf"
   },
   "outputs": [],
   "source": [
    "df = pd.merge(df, df_images)"
   ]
  },
  {
   "cell_type": "code",
   "execution_count": 50,
   "metadata": {
    "colab": {
     "base_uri": "https://localhost:8080/",
     "height": 779
    },
    "id": "JfunZ27CkANi",
    "outputId": "470885fd-75d7-4e26-ad78-8529bf547976"
   },
   "outputs": [
    {
     "data": {
      "text/html": [
       "<div>\n",
       "<style scoped>\n",
       "    .dataframe tbody tr th:only-of-type {\n",
       "        vertical-align: middle;\n",
       "    }\n",
       "\n",
       "    .dataframe tbody tr th {\n",
       "        vertical-align: top;\n",
       "    }\n",
       "\n",
       "    .dataframe thead th {\n",
       "        text-align: right;\n",
       "    }\n",
       "</style>\n",
       "<table border=\"1\" class=\"dataframe\">\n",
       "  <thead>\n",
       "    <tr style=\"text-align: right;\">\n",
       "      <th></th>\n",
       "      <th>promotion_id</th>\n",
       "      <th>promotion_rent</th>\n",
       "      <th>property_id</th>\n",
       "      <th>type</th>\n",
       "      <th>neighborhood</th>\n",
       "      <th>city</th>\n",
       "      <th>latitude</th>\n",
       "      <th>longitude</th>\n",
       "      <th>stratum</th>\n",
       "      <th>facilities</th>\n",
       "      <th>images</th>\n",
       "    </tr>\n",
       "  </thead>\n",
       "  <tbody>\n",
       "    <tr>\n",
       "      <th>0</th>\n",
       "      <td>45975</td>\n",
       "      <td>500000</td>\n",
       "      <td>17957</td>\n",
       "      <td>apartamento</td>\n",
       "      <td>caribe</td>\n",
       "      <td>medellin</td>\n",
       "      <td>6.273039</td>\n",
       "      <td>-75.572224</td>\n",
       "      <td>3.0</td>\n",
       "      <td>[{'id': 525808, 'value': '2', 'facility': {'id...</td>\n",
       "      <td>[https://assets.arrendamientosnutibara.com/spa...</td>\n",
       "    </tr>\n",
       "    <tr>\n",
       "      <th>1</th>\n",
       "      <td>47237</td>\n",
       "      <td>680000</td>\n",
       "      <td>28978</td>\n",
       "      <td>local</td>\n",
       "      <td>centro</td>\n",
       "      <td>medellin</td>\n",
       "      <td>6.256035</td>\n",
       "      <td>-75.571223</td>\n",
       "      <td>3.0</td>\n",
       "      <td>[{'id': 558795, 'value': '2', 'facility': {'id...</td>\n",
       "      <td>[https://assets.arrendamientosnutibara.com/spa...</td>\n",
       "    </tr>\n",
       "    <tr>\n",
       "      <th>2</th>\n",
       "      <td>50320</td>\n",
       "      <td>850000</td>\n",
       "      <td>21007</td>\n",
       "      <td>casa</td>\n",
       "      <td>francisco antonio zea</td>\n",
       "      <td>medellin</td>\n",
       "      <td>6.286610</td>\n",
       "      <td>-75.573299</td>\n",
       "      <td>3.0</td>\n",
       "      <td>[{'id': 608957, 'value': '3', 'facility': {'id...</td>\n",
       "      <td>[https://assets.arrendamientosnutibara.com/spa...</td>\n",
       "    </tr>\n",
       "    <tr>\n",
       "      <th>3</th>\n",
       "      <td>50833</td>\n",
       "      <td>1000000</td>\n",
       "      <td>8446</td>\n",
       "      <td>local</td>\n",
       "      <td>itagui</td>\n",
       "      <td>itagui</td>\n",
       "      <td>6.190032</td>\n",
       "      <td>-75.597829</td>\n",
       "      <td>3.0</td>\n",
       "      <td>[{'id': 506111, 'value': '0', 'facility': {'id...</td>\n",
       "      <td>[https://assets.arrendamientosnutibara.com/spa...</td>\n",
       "    </tr>\n",
       "    <tr>\n",
       "      <th>4</th>\n",
       "      <td>51352</td>\n",
       "      <td>8500000</td>\n",
       "      <td>28820</td>\n",
       "      <td>local</td>\n",
       "      <td>centro</td>\n",
       "      <td>medellin</td>\n",
       "      <td>6.252109</td>\n",
       "      <td>-75.567265</td>\n",
       "      <td>4.0</td>\n",
       "      <td>[{'id': 557546, 'value': '0', 'facility': {'id...</td>\n",
       "      <td>[https://assets.arrendamientosnutibara.com/spa...</td>\n",
       "    </tr>\n",
       "    <tr>\n",
       "      <th>...</th>\n",
       "      <td>...</td>\n",
       "      <td>...</td>\n",
       "      <td>...</td>\n",
       "      <td>...</td>\n",
       "      <td>...</td>\n",
       "      <td>...</td>\n",
       "      <td>...</td>\n",
       "      <td>...</td>\n",
       "      <td>...</td>\n",
       "      <td>...</td>\n",
       "      <td>...</td>\n",
       "    </tr>\n",
       "    <tr>\n",
       "      <th>583</th>\n",
       "      <td>62877</td>\n",
       "      <td>800000</td>\n",
       "      <td>13613</td>\n",
       "      <td>apartamento</td>\n",
       "      <td>tricentenario</td>\n",
       "      <td>medellin</td>\n",
       "      <td>6.291108</td>\n",
       "      <td>-75.565718</td>\n",
       "      <td>3.0</td>\n",
       "      <td>[{'id': 513777, 'value': '3', 'facility': {'id...</td>\n",
       "      <td>[https://assets.arrendamientosnutibara.com/spa...</td>\n",
       "    </tr>\n",
       "    <tr>\n",
       "      <th>584</th>\n",
       "      <td>62879</td>\n",
       "      <td>1900000</td>\n",
       "      <td>34419</td>\n",
       "      <td>casa</td>\n",
       "      <td>laureles</td>\n",
       "      <td>medellin</td>\n",
       "      <td>6.238079</td>\n",
       "      <td>-75.594181</td>\n",
       "      <td>5.0</td>\n",
       "      <td>[{'id': 625083, 'value': '3', 'facility': {'id...</td>\n",
       "      <td>[https://assets.arrendamientosnutibara.com/spa...</td>\n",
       "    </tr>\n",
       "    <tr>\n",
       "      <th>585</th>\n",
       "      <td>62884</td>\n",
       "      <td>2200000</td>\n",
       "      <td>30704</td>\n",
       "      <td>local</td>\n",
       "      <td>centro</td>\n",
       "      <td>medellin</td>\n",
       "      <td>6.253478</td>\n",
       "      <td>-75.562653</td>\n",
       "      <td>4.0</td>\n",
       "      <td>[{'id': 569971, 'value': '2', 'facility': {'id...</td>\n",
       "      <td>[https://assets.arrendamientosnutibara.com/spa...</td>\n",
       "    </tr>\n",
       "    <tr>\n",
       "      <th>586</th>\n",
       "      <td>62886</td>\n",
       "      <td>2500000</td>\n",
       "      <td>34422</td>\n",
       "      <td>casa</td>\n",
       "      <td>estadio</td>\n",
       "      <td>medellin</td>\n",
       "      <td>6.253917</td>\n",
       "      <td>-75.582674</td>\n",
       "      <td>5.0</td>\n",
       "      <td>[{'id': 625183, 'value': '0', 'facility': {'id...</td>\n",
       "      <td>[https://assets.arrendamientosnutibara.com/spa...</td>\n",
       "    </tr>\n",
       "    <tr>\n",
       "      <th>587</th>\n",
       "      <td>62895</td>\n",
       "      <td>1000000</td>\n",
       "      <td>33373</td>\n",
       "      <td>casa</td>\n",
       "      <td>alfonso lopez</td>\n",
       "      <td>medellin</td>\n",
       "      <td>6.283695</td>\n",
       "      <td>-75.576573</td>\n",
       "      <td>3.0</td>\n",
       "      <td>[{'id': 608312, 'value': '3', 'facility': {'id...</td>\n",
       "      <td>[https://assets.arrendamientosnutibara.com/spa...</td>\n",
       "    </tr>\n",
       "  </tbody>\n",
       "</table>\n",
       "<p>588 rows × 11 columns</p>\n",
       "</div>"
      ],
      "text/plain": [
       "     promotion_id promotion_rent  property_id         type  \\\n",
       "0           45975         500000        17957  apartamento   \n",
       "1           47237         680000        28978        local   \n",
       "2           50320         850000        21007         casa   \n",
       "3           50833        1000000         8446        local   \n",
       "4           51352        8500000        28820        local   \n",
       "..            ...            ...          ...          ...   \n",
       "583         62877         800000        13613  apartamento   \n",
       "584         62879        1900000        34419         casa   \n",
       "585         62884        2200000        30704        local   \n",
       "586         62886        2500000        34422         casa   \n",
       "587         62895        1000000        33373         casa   \n",
       "\n",
       "              neighborhood      city  latitude  longitude  stratum  \\\n",
       "0                   caribe  medellin  6.273039 -75.572224      3.0   \n",
       "1                   centro  medellin  6.256035 -75.571223      3.0   \n",
       "2    francisco antonio zea  medellin  6.286610 -75.573299      3.0   \n",
       "3                   itagui    itagui  6.190032 -75.597829      3.0   \n",
       "4                   centro  medellin  6.252109 -75.567265      4.0   \n",
       "..                     ...       ...       ...        ...      ...   \n",
       "583          tricentenario  medellin  6.291108 -75.565718      3.0   \n",
       "584               laureles  medellin  6.238079 -75.594181      5.0   \n",
       "585                 centro  medellin  6.253478 -75.562653      4.0   \n",
       "586                estadio  medellin  6.253917 -75.582674      5.0   \n",
       "587          alfonso lopez  medellin  6.283695 -75.576573      3.0   \n",
       "\n",
       "                                            facilities  \\\n",
       "0    [{'id': 525808, 'value': '2', 'facility': {'id...   \n",
       "1    [{'id': 558795, 'value': '2', 'facility': {'id...   \n",
       "2    [{'id': 608957, 'value': '3', 'facility': {'id...   \n",
       "3    [{'id': 506111, 'value': '0', 'facility': {'id...   \n",
       "4    [{'id': 557546, 'value': '0', 'facility': {'id...   \n",
       "..                                                 ...   \n",
       "583  [{'id': 513777, 'value': '3', 'facility': {'id...   \n",
       "584  [{'id': 625083, 'value': '3', 'facility': {'id...   \n",
       "585  [{'id': 569971, 'value': '2', 'facility': {'id...   \n",
       "586  [{'id': 625183, 'value': '0', 'facility': {'id...   \n",
       "587  [{'id': 608312, 'value': '3', 'facility': {'id...   \n",
       "\n",
       "                                                images  \n",
       "0    [https://assets.arrendamientosnutibara.com/spa...  \n",
       "1    [https://assets.arrendamientosnutibara.com/spa...  \n",
       "2    [https://assets.arrendamientosnutibara.com/spa...  \n",
       "3    [https://assets.arrendamientosnutibara.com/spa...  \n",
       "4    [https://assets.arrendamientosnutibara.com/spa...  \n",
       "..                                                 ...  \n",
       "583  [https://assets.arrendamientosnutibara.com/spa...  \n",
       "584  [https://assets.arrendamientosnutibara.com/spa...  \n",
       "585  [https://assets.arrendamientosnutibara.com/spa...  \n",
       "586  [https://assets.arrendamientosnutibara.com/spa...  \n",
       "587  [https://assets.arrendamientosnutibara.com/spa...  \n",
       "\n",
       "[588 rows x 11 columns]"
      ]
     },
     "execution_count": 50,
     "metadata": {},
     "output_type": "execute_result"
    }
   ],
   "source": [
    "df"
   ]
  },
  {
   "cell_type": "markdown",
   "metadata": {
    "id": "odErMnMbkANo"
   },
   "source": [
    "### Extract facilities"
   ]
  },
  {
   "cell_type": "code",
   "execution_count": 51,
   "metadata": {
    "colab": {
     "base_uri": "https://localhost:8080/"
    },
    "id": "1pvhSK1UkANp",
    "outputId": "7967e191-854e-4f79-9f0f-64f6736d1ba5"
   },
   "outputs": [
    {
     "name": "stderr",
     "output_type": "stream",
     "text": [
      "<ipython-input-51-409763e04d99>:1: FutureWarning: pandas.io.json.json_normalize is deprecated, use pandas.json_normalize instead\n",
      "  df_facilities = json_normalize(data, record_path='facilities', meta=['promotion_id', 'property_id'])\n"
     ]
    }
   ],
   "source": [
    "df_facilities = json_normalize(data, record_path='facilities', meta=['promotion_id', 'property_id'])"
   ]
  },
  {
   "cell_type": "code",
   "execution_count": 52,
   "metadata": {
    "id": "hnJgxlRukANw"
   },
   "outputs": [],
   "source": [
    "df_facilities = df_facilities.drop(columns = ['id'])"
   ]
  },
  {
   "cell_type": "code",
   "execution_count": 53,
   "metadata": {
    "colab": {
     "base_uri": "https://localhost:8080/"
    },
    "id": "ieYjBSjFkAN0",
    "outputId": "b437ef73-2f08-42f9-9acd-075536713bcd"
   },
   "outputs": [
    {
     "data": {
      "text/plain": [
       "Index(['value', 'facility.id', 'facility.name', 'promotion_id', 'property_id'], dtype='object')"
      ]
     },
     "execution_count": 53,
     "metadata": {},
     "output_type": "execute_result"
    }
   ],
   "source": [
    "df_facilities.columns"
   ]
  },
  {
   "cell_type": "code",
   "execution_count": 54,
   "metadata": {
    "id": "OuPzrgfokAN5"
   },
   "outputs": [],
   "source": [
    "df_facilities = df_facilities.rename(columns = {\n",
    "    'facility.id': 'facility_id',\n",
    "    'value': 'facility_value',\n",
    "    'facility.name': 'facility_name'\n",
    "})"
   ]
  },
  {
   "cell_type": "code",
   "execution_count": 55,
   "metadata": {
    "colab": {
     "base_uri": "https://localhost:8080/",
     "height": 419
    },
    "id": "8Dc8x2sWkAN-",
    "outputId": "061a5b5f-0d3b-448c-9d4f-4200e1590354"
   },
   "outputs": [
    {
     "data": {
      "text/html": [
       "<div>\n",
       "<style scoped>\n",
       "    .dataframe tbody tr th:only-of-type {\n",
       "        vertical-align: middle;\n",
       "    }\n",
       "\n",
       "    .dataframe tbody tr th {\n",
       "        vertical-align: top;\n",
       "    }\n",
       "\n",
       "    .dataframe thead th {\n",
       "        text-align: right;\n",
       "    }\n",
       "</style>\n",
       "<table border=\"1\" class=\"dataframe\">\n",
       "  <thead>\n",
       "    <tr style=\"text-align: right;\">\n",
       "      <th></th>\n",
       "      <th>facility_value</th>\n",
       "      <th>facility_id</th>\n",
       "      <th>facility_name</th>\n",
       "      <th>promotion_id</th>\n",
       "      <th>property_id</th>\n",
       "    </tr>\n",
       "  </thead>\n",
       "  <tbody>\n",
       "    <tr>\n",
       "      <th>0</th>\n",
       "      <td>2</td>\n",
       "      <td>82</td>\n",
       "      <td>Alcobas</td>\n",
       "      <td>45975</td>\n",
       "      <td>17957</td>\n",
       "    </tr>\n",
       "    <tr>\n",
       "      <th>1</th>\n",
       "      <td>0</td>\n",
       "      <td>93</td>\n",
       "      <td>Salon Comedor</td>\n",
       "      <td>45975</td>\n",
       "      <td>17957</td>\n",
       "    </tr>\n",
       "    <tr>\n",
       "      <th>2</th>\n",
       "      <td>0</td>\n",
       "      <td>96</td>\n",
       "      <td>Trifilar</td>\n",
       "      <td>45975</td>\n",
       "      <td>17957</td>\n",
       "    </tr>\n",
       "    <tr>\n",
       "      <th>3</th>\n",
       "      <td>1</td>\n",
       "      <td>99</td>\n",
       "      <td>Balcon</td>\n",
       "      <td>45975</td>\n",
       "      <td>17957</td>\n",
       "    </tr>\n",
       "    <tr>\n",
       "      <th>4</th>\n",
       "      <td>0</td>\n",
       "      <td>101</td>\n",
       "      <td>Patios</td>\n",
       "      <td>45975</td>\n",
       "      <td>17957</td>\n",
       "    </tr>\n",
       "    <tr>\n",
       "      <th>...</th>\n",
       "      <td>...</td>\n",
       "      <td>...</td>\n",
       "      <td>...</td>\n",
       "      <td>...</td>\n",
       "      <td>...</td>\n",
       "    </tr>\n",
       "    <tr>\n",
       "      <th>7389</th>\n",
       "      <td>0</td>\n",
       "      <td>119</td>\n",
       "      <td>Piso Baldosa</td>\n",
       "      <td>62895</td>\n",
       "      <td>33373</td>\n",
       "    </tr>\n",
       "    <tr>\n",
       "      <th>7390</th>\n",
       "      <td>0</td>\n",
       "      <td>129</td>\n",
       "      <td>Rejas</td>\n",
       "      <td>62895</td>\n",
       "      <td>33373</td>\n",
       "    </tr>\n",
       "    <tr>\n",
       "      <th>7391</th>\n",
       "      <td>0</td>\n",
       "      <td>130</td>\n",
       "      <td>Red Gas</td>\n",
       "      <td>62895</td>\n",
       "      <td>33373</td>\n",
       "    </tr>\n",
       "    <tr>\n",
       "      <th>7392</th>\n",
       "      <td>0</td>\n",
       "      <td>131</td>\n",
       "      <td>Cocina Sencilla</td>\n",
       "      <td>62895</td>\n",
       "      <td>33373</td>\n",
       "    </tr>\n",
       "    <tr>\n",
       "      <th>7393</th>\n",
       "      <td>0</td>\n",
       "      <td>156</td>\n",
       "      <td>No Mascotas</td>\n",
       "      <td>62895</td>\n",
       "      <td>33373</td>\n",
       "    </tr>\n",
       "  </tbody>\n",
       "</table>\n",
       "<p>7394 rows × 5 columns</p>\n",
       "</div>"
      ],
      "text/plain": [
       "     facility_value  facility_id    facility_name promotion_id property_id\n",
       "0                 2           82          Alcobas        45975       17957\n",
       "1                 0           93    Salon Comedor        45975       17957\n",
       "2                 0           96         Trifilar        45975       17957\n",
       "3                 1           99           Balcon        45975       17957\n",
       "4                 0          101           Patios        45975       17957\n",
       "...             ...          ...              ...          ...         ...\n",
       "7389              0          119     Piso Baldosa        62895       33373\n",
       "7390              0          129            Rejas        62895       33373\n",
       "7391              0          130          Red Gas        62895       33373\n",
       "7392              0          131  Cocina Sencilla        62895       33373\n",
       "7393              0          156      No Mascotas        62895       33373\n",
       "\n",
       "[7394 rows x 5 columns]"
      ]
     },
     "execution_count": 55,
     "metadata": {},
     "output_type": "execute_result"
    }
   ],
   "source": [
    "df_facilities"
   ]
  },
  {
   "cell_type": "markdown",
   "metadata": {
    "id": "OdrOrnfNkAOD"
   },
   "source": [
    "### Facilities\n",
    "\n",
    "##### 112 - Área\n",
    "##### 105 - Baños\n",
    "##### 82 - Habitaciones"
   ]
  },
  {
   "cell_type": "markdown",
   "metadata": {
    "id": "W5zxtbl6kAOD"
   },
   "source": [
    "### Extract rooms"
   ]
  },
  {
   "cell_type": "code",
   "execution_count": 56,
   "metadata": {
    "id": "zF8cpyn2kAOD"
   },
   "outputs": [],
   "source": [
    "df_rooms = df_facilities.loc[df_facilities['facility_id'] == 82]"
   ]
  },
  {
   "cell_type": "code",
   "execution_count": 57,
   "metadata": {
    "colab": {
     "base_uri": "https://localhost:8080/",
     "height": 419
    },
    "id": "oM3gGbOLkAOG",
    "outputId": "92aa1839-ad95-4255-b5d0-5cf528c82dc1"
   },
   "outputs": [
    {
     "data": {
      "text/html": [
       "<div>\n",
       "<style scoped>\n",
       "    .dataframe tbody tr th:only-of-type {\n",
       "        vertical-align: middle;\n",
       "    }\n",
       "\n",
       "    .dataframe tbody tr th {\n",
       "        vertical-align: top;\n",
       "    }\n",
       "\n",
       "    .dataframe thead th {\n",
       "        text-align: right;\n",
       "    }\n",
       "</style>\n",
       "<table border=\"1\" class=\"dataframe\">\n",
       "  <thead>\n",
       "    <tr style=\"text-align: right;\">\n",
       "      <th></th>\n",
       "      <th>facility_value</th>\n",
       "      <th>facility_id</th>\n",
       "      <th>facility_name</th>\n",
       "      <th>promotion_id</th>\n",
       "      <th>property_id</th>\n",
       "    </tr>\n",
       "  </thead>\n",
       "  <tbody>\n",
       "    <tr>\n",
       "      <th>0</th>\n",
       "      <td>2</td>\n",
       "      <td>82</td>\n",
       "      <td>Alcobas</td>\n",
       "      <td>45975</td>\n",
       "      <td>17957</td>\n",
       "    </tr>\n",
       "    <tr>\n",
       "      <th>12</th>\n",
       "      <td>2</td>\n",
       "      <td>82</td>\n",
       "      <td>Alcobas</td>\n",
       "      <td>47237</td>\n",
       "      <td>28978</td>\n",
       "    </tr>\n",
       "    <tr>\n",
       "      <th>23</th>\n",
       "      <td>3</td>\n",
       "      <td>82</td>\n",
       "      <td>Alcobas</td>\n",
       "      <td>50320</td>\n",
       "      <td>21007</td>\n",
       "    </tr>\n",
       "    <tr>\n",
       "      <th>60</th>\n",
       "      <td>3</td>\n",
       "      <td>82</td>\n",
       "      <td>Alcobas</td>\n",
       "      <td>52782</td>\n",
       "      <td>28721</td>\n",
       "    </tr>\n",
       "    <tr>\n",
       "      <th>71</th>\n",
       "      <td>3</td>\n",
       "      <td>82</td>\n",
       "      <td>Alcobas</td>\n",
       "      <td>52783</td>\n",
       "      <td>28720</td>\n",
       "    </tr>\n",
       "    <tr>\n",
       "      <th>...</th>\n",
       "      <td>...</td>\n",
       "      <td>...</td>\n",
       "      <td>...</td>\n",
       "      <td>...</td>\n",
       "      <td>...</td>\n",
       "    </tr>\n",
       "    <tr>\n",
       "      <th>7330</th>\n",
       "      <td>3</td>\n",
       "      <td>82</td>\n",
       "      <td>Alcobas</td>\n",
       "      <td>62877</td>\n",
       "      <td>13613</td>\n",
       "    </tr>\n",
       "    <tr>\n",
       "      <th>7344</th>\n",
       "      <td>3</td>\n",
       "      <td>82</td>\n",
       "      <td>Alcobas</td>\n",
       "      <td>62879</td>\n",
       "      <td>34419</td>\n",
       "    </tr>\n",
       "    <tr>\n",
       "      <th>7360</th>\n",
       "      <td>2</td>\n",
       "      <td>82</td>\n",
       "      <td>Alcobas</td>\n",
       "      <td>62884</td>\n",
       "      <td>30704</td>\n",
       "    </tr>\n",
       "    <tr>\n",
       "      <th>7370</th>\n",
       "      <td>3</td>\n",
       "      <td>82</td>\n",
       "      <td>Alcobas</td>\n",
       "      <td>62886</td>\n",
       "      <td>34422</td>\n",
       "    </tr>\n",
       "    <tr>\n",
       "      <th>7380</th>\n",
       "      <td>3</td>\n",
       "      <td>82</td>\n",
       "      <td>Alcobas</td>\n",
       "      <td>62895</td>\n",
       "      <td>33373</td>\n",
       "    </tr>\n",
       "  </tbody>\n",
       "</table>\n",
       "<p>399 rows × 5 columns</p>\n",
       "</div>"
      ],
      "text/plain": [
       "     facility_value  facility_id facility_name promotion_id property_id\n",
       "0                 2           82       Alcobas        45975       17957\n",
       "12                2           82       Alcobas        47237       28978\n",
       "23                3           82       Alcobas        50320       21007\n",
       "60                3           82       Alcobas        52782       28721\n",
       "71                3           82       Alcobas        52783       28720\n",
       "...             ...          ...           ...          ...         ...\n",
       "7330              3           82       Alcobas        62877       13613\n",
       "7344              3           82       Alcobas        62879       34419\n",
       "7360              2           82       Alcobas        62884       30704\n",
       "7370              3           82       Alcobas        62886       34422\n",
       "7380              3           82       Alcobas        62895       33373\n",
       "\n",
       "[399 rows x 5 columns]"
      ]
     },
     "execution_count": 57,
     "metadata": {},
     "output_type": "execute_result"
    }
   ],
   "source": [
    "df_rooms"
   ]
  },
  {
   "cell_type": "code",
   "execution_count": 58,
   "metadata": {
    "id": "bNzz-tYUkAOI"
   },
   "outputs": [],
   "source": [
    "df_rooms = df_rooms.drop(columns = ['property_id', 'facility_id', 'facility_name'])\n",
    "df_rooms['facility_value'] = df_rooms['facility_value'].astype(int)"
   ]
  },
  {
   "cell_type": "code",
   "execution_count": 59,
   "metadata": {
    "colab": {
     "base_uri": "https://localhost:8080/"
    },
    "id": "J3dU0DRzkAOM",
    "outputId": "b83c75bf-f36b-4e5c-9604-c07f0c609fd8"
   },
   "outputs": [
    {
     "data": {
      "text/plain": [
       "Index(['facility_value', 'promotion_id'], dtype='object')"
      ]
     },
     "execution_count": 59,
     "metadata": {},
     "output_type": "execute_result"
    }
   ],
   "source": [
    "df_rooms.columns"
   ]
  },
  {
   "cell_type": "code",
   "execution_count": 60,
   "metadata": {
    "id": "ttM5VytQkAOQ"
   },
   "outputs": [],
   "source": [
    "df_rooms = df_rooms.rename(columns={\n",
    "    \"facility_value\": \"rooms\",\n",
    "})"
   ]
  },
  {
   "cell_type": "code",
   "execution_count": 61,
   "metadata": {
    "colab": {
     "base_uri": "https://localhost:8080/",
     "height": 419
    },
    "id": "Tx8qll4LkAOT",
    "outputId": "1a914481-af7b-46cb-c794-b675f57ee3e5"
   },
   "outputs": [
    {
     "data": {
      "text/html": [
       "<div>\n",
       "<style scoped>\n",
       "    .dataframe tbody tr th:only-of-type {\n",
       "        vertical-align: middle;\n",
       "    }\n",
       "\n",
       "    .dataframe tbody tr th {\n",
       "        vertical-align: top;\n",
       "    }\n",
       "\n",
       "    .dataframe thead th {\n",
       "        text-align: right;\n",
       "    }\n",
       "</style>\n",
       "<table border=\"1\" class=\"dataframe\">\n",
       "  <thead>\n",
       "    <tr style=\"text-align: right;\">\n",
       "      <th></th>\n",
       "      <th>rooms</th>\n",
       "      <th>promotion_id</th>\n",
       "    </tr>\n",
       "  </thead>\n",
       "  <tbody>\n",
       "    <tr>\n",
       "      <th>0</th>\n",
       "      <td>2</td>\n",
       "      <td>45975</td>\n",
       "    </tr>\n",
       "    <tr>\n",
       "      <th>12</th>\n",
       "      <td>2</td>\n",
       "      <td>47237</td>\n",
       "    </tr>\n",
       "    <tr>\n",
       "      <th>23</th>\n",
       "      <td>3</td>\n",
       "      <td>50320</td>\n",
       "    </tr>\n",
       "    <tr>\n",
       "      <th>60</th>\n",
       "      <td>3</td>\n",
       "      <td>52782</td>\n",
       "    </tr>\n",
       "    <tr>\n",
       "      <th>71</th>\n",
       "      <td>3</td>\n",
       "      <td>52783</td>\n",
       "    </tr>\n",
       "    <tr>\n",
       "      <th>...</th>\n",
       "      <td>...</td>\n",
       "      <td>...</td>\n",
       "    </tr>\n",
       "    <tr>\n",
       "      <th>7330</th>\n",
       "      <td>3</td>\n",
       "      <td>62877</td>\n",
       "    </tr>\n",
       "    <tr>\n",
       "      <th>7344</th>\n",
       "      <td>3</td>\n",
       "      <td>62879</td>\n",
       "    </tr>\n",
       "    <tr>\n",
       "      <th>7360</th>\n",
       "      <td>2</td>\n",
       "      <td>62884</td>\n",
       "    </tr>\n",
       "    <tr>\n",
       "      <th>7370</th>\n",
       "      <td>3</td>\n",
       "      <td>62886</td>\n",
       "    </tr>\n",
       "    <tr>\n",
       "      <th>7380</th>\n",
       "      <td>3</td>\n",
       "      <td>62895</td>\n",
       "    </tr>\n",
       "  </tbody>\n",
       "</table>\n",
       "<p>399 rows × 2 columns</p>\n",
       "</div>"
      ],
      "text/plain": [
       "      rooms promotion_id\n",
       "0         2        45975\n",
       "12        2        47237\n",
       "23        3        50320\n",
       "60        3        52782\n",
       "71        3        52783\n",
       "...     ...          ...\n",
       "7330      3        62877\n",
       "7344      3        62879\n",
       "7360      2        62884\n",
       "7370      3        62886\n",
       "7380      3        62895\n",
       "\n",
       "[399 rows x 2 columns]"
      ]
     },
     "execution_count": 61,
     "metadata": {},
     "output_type": "execute_result"
    }
   ],
   "source": [
    "df_rooms"
   ]
  },
  {
   "cell_type": "code",
   "execution_count": 62,
   "metadata": {
    "id": "IbIGSDVlkAOX"
   },
   "outputs": [],
   "source": [
    "df['rooms'] = df.promotion_id.map(df_rooms.set_index('promotion_id')['rooms'])\n",
    "df['rooms'] = df['rooms'].fillna(0)\n",
    "df['rooms'] = df['rooms'].astype(int)"
   ]
  },
  {
   "cell_type": "markdown",
   "metadata": {
    "id": "CkwfTeUTkAOc"
   },
   "source": [
    "### Extract area"
   ]
  },
  {
   "cell_type": "code",
   "execution_count": 63,
   "metadata": {
    "id": "fL6plProkAOd"
   },
   "outputs": [],
   "source": [
    "is_area = df_facilities['facility_id'] == 112\n",
    "df_area = df_facilities[is_area]\n",
    "df_area = df_area.drop(columns = ['property_id', 'facility_id', 'facility_name'])\n",
    "df_area['facility_value'] = df_area['facility_value'].str.replace(',', '.')\n",
    "df_area['facility_value'] = df_area['facility_value'].astype(float)\n",
    "df_area = df_area.rename(columns={\n",
    "    \"facility_value\": \"area\",\n",
    "})"
   ]
  },
  {
   "cell_type": "code",
   "execution_count": 64,
   "metadata": {
    "colab": {
     "base_uri": "https://localhost:8080/",
     "height": 419
    },
    "id": "fpxNFjznkAOh",
    "outputId": "551b8c7c-313f-406c-9916-d13ef7d6d717"
   },
   "outputs": [
    {
     "data": {
      "text/html": [
       "<div>\n",
       "<style scoped>\n",
       "    .dataframe tbody tr th:only-of-type {\n",
       "        vertical-align: middle;\n",
       "    }\n",
       "\n",
       "    .dataframe tbody tr th {\n",
       "        vertical-align: top;\n",
       "    }\n",
       "\n",
       "    .dataframe thead th {\n",
       "        text-align: right;\n",
       "    }\n",
       "</style>\n",
       "<table border=\"1\" class=\"dataframe\">\n",
       "  <thead>\n",
       "    <tr style=\"text-align: right;\">\n",
       "      <th></th>\n",
       "      <th>area</th>\n",
       "      <th>promotion_id</th>\n",
       "    </tr>\n",
       "  </thead>\n",
       "  <tbody>\n",
       "    <tr>\n",
       "      <th>10</th>\n",
       "      <td>45.0</td>\n",
       "      <td>45975</td>\n",
       "    </tr>\n",
       "    <tr>\n",
       "      <th>22</th>\n",
       "      <td>65.0</td>\n",
       "      <td>47237</td>\n",
       "    </tr>\n",
       "    <tr>\n",
       "      <th>35</th>\n",
       "      <td>108.0</td>\n",
       "      <td>50320</td>\n",
       "    </tr>\n",
       "    <tr>\n",
       "      <th>40</th>\n",
       "      <td>25.0</td>\n",
       "      <td>50833</td>\n",
       "    </tr>\n",
       "    <tr>\n",
       "      <th>45</th>\n",
       "      <td>700.0</td>\n",
       "      <td>51352</td>\n",
       "    </tr>\n",
       "    <tr>\n",
       "      <th>...</th>\n",
       "      <td>...</td>\n",
       "      <td>...</td>\n",
       "    </tr>\n",
       "    <tr>\n",
       "      <th>7328</th>\n",
       "      <td>62.0</td>\n",
       "      <td>62876</td>\n",
       "    </tr>\n",
       "    <tr>\n",
       "      <th>7339</th>\n",
       "      <td>68.0</td>\n",
       "      <td>62877</td>\n",
       "    </tr>\n",
       "    <tr>\n",
       "      <th>7365</th>\n",
       "      <td>130.0</td>\n",
       "      <td>62884</td>\n",
       "    </tr>\n",
       "    <tr>\n",
       "      <th>7378</th>\n",
       "      <td>180.0</td>\n",
       "      <td>62886</td>\n",
       "    </tr>\n",
       "    <tr>\n",
       "      <th>7388</th>\n",
       "      <td>75.0</td>\n",
       "      <td>62895</td>\n",
       "    </tr>\n",
       "  </tbody>\n",
       "</table>\n",
       "<p>585 rows × 2 columns</p>\n",
       "</div>"
      ],
      "text/plain": [
       "       area promotion_id\n",
       "10     45.0        45975\n",
       "22     65.0        47237\n",
       "35    108.0        50320\n",
       "40     25.0        50833\n",
       "45    700.0        51352\n",
       "...     ...          ...\n",
       "7328   62.0        62876\n",
       "7339   68.0        62877\n",
       "7365  130.0        62884\n",
       "7378  180.0        62886\n",
       "7388   75.0        62895\n",
       "\n",
       "[585 rows x 2 columns]"
      ]
     },
     "execution_count": 64,
     "metadata": {},
     "output_type": "execute_result"
    }
   ],
   "source": [
    "df_area"
   ]
  },
  {
   "cell_type": "code",
   "execution_count": 65,
   "metadata": {
    "id": "cpGRMOQxkAOl"
   },
   "outputs": [],
   "source": [
    "df['area'] = df.promotion_id.map(df_area.set_index('promotion_id')['area'])\n",
    "df['area'] = df['area'].fillna('')"
   ]
  },
  {
   "cell_type": "markdown",
   "metadata": {
    "id": "wVzEQ2sjkAOo"
   },
   "source": [
    "### Extract bathrooms"
   ]
  },
  {
   "cell_type": "code",
   "execution_count": 66,
   "metadata": {
    "id": "AnI0RF1IkAOp"
   },
   "outputs": [],
   "source": [
    "is_bath = df_facilities['facility_id'] == 105\n",
    "df_bath = df_facilities[is_bath]\n",
    "df_bath = df_bath.drop(columns = ['property_id', 'facility_id', 'facility_name'])\n",
    "df_bath['facility_value'] = df_bath['facility_value'].astype(int)\n",
    "df_bath = df_bath.rename(columns={\n",
    "    \"facility_value\": \"bathrooms\",\n",
    "})"
   ]
  },
  {
   "cell_type": "code",
   "execution_count": 67,
   "metadata": {
    "colab": {
     "base_uri": "https://localhost:8080/",
     "height": 419
    },
    "id": "j3pc5cyhkAOr",
    "outputId": "3e4874c8-c6e7-4571-ab36-a034095ddeca"
   },
   "outputs": [
    {
     "data": {
      "text/html": [
       "<div>\n",
       "<style scoped>\n",
       "    .dataframe tbody tr th:only-of-type {\n",
       "        vertical-align: middle;\n",
       "    }\n",
       "\n",
       "    .dataframe tbody tr th {\n",
       "        vertical-align: top;\n",
       "    }\n",
       "\n",
       "    .dataframe thead th {\n",
       "        text-align: right;\n",
       "    }\n",
       "</style>\n",
       "<table border=\"1\" class=\"dataframe\">\n",
       "  <thead>\n",
       "    <tr style=\"text-align: right;\">\n",
       "      <th></th>\n",
       "      <th>bathrooms</th>\n",
       "      <th>promotion_id</th>\n",
       "    </tr>\n",
       "  </thead>\n",
       "  <tbody>\n",
       "    <tr>\n",
       "      <th>8</th>\n",
       "      <td>1</td>\n",
       "      <td>45975</td>\n",
       "    </tr>\n",
       "    <tr>\n",
       "      <th>20</th>\n",
       "      <td>2</td>\n",
       "      <td>47237</td>\n",
       "    </tr>\n",
       "    <tr>\n",
       "      <th>33</th>\n",
       "      <td>1</td>\n",
       "      <td>50320</td>\n",
       "    </tr>\n",
       "    <tr>\n",
       "      <th>38</th>\n",
       "      <td>1</td>\n",
       "      <td>50833</td>\n",
       "    </tr>\n",
       "    <tr>\n",
       "      <th>43</th>\n",
       "      <td>5</td>\n",
       "      <td>51352</td>\n",
       "    </tr>\n",
       "    <tr>\n",
       "      <th>...</th>\n",
       "      <td>...</td>\n",
       "      <td>...</td>\n",
       "    </tr>\n",
       "    <tr>\n",
       "      <th>7336</th>\n",
       "      <td>1</td>\n",
       "      <td>62877</td>\n",
       "    </tr>\n",
       "    <tr>\n",
       "      <th>7352</th>\n",
       "      <td>3</td>\n",
       "      <td>62879</td>\n",
       "    </tr>\n",
       "    <tr>\n",
       "      <th>7364</th>\n",
       "      <td>2</td>\n",
       "      <td>62884</td>\n",
       "    </tr>\n",
       "    <tr>\n",
       "      <th>7377</th>\n",
       "      <td>2</td>\n",
       "      <td>62886</td>\n",
       "    </tr>\n",
       "    <tr>\n",
       "      <th>7386</th>\n",
       "      <td>1</td>\n",
       "      <td>62895</td>\n",
       "    </tr>\n",
       "  </tbody>\n",
       "</table>\n",
       "<p>535 rows × 2 columns</p>\n",
       "</div>"
      ],
      "text/plain": [
       "      bathrooms promotion_id\n",
       "8             1        45975\n",
       "20            2        47237\n",
       "33            1        50320\n",
       "38            1        50833\n",
       "43            5        51352\n",
       "...         ...          ...\n",
       "7336          1        62877\n",
       "7352          3        62879\n",
       "7364          2        62884\n",
       "7377          2        62886\n",
       "7386          1        62895\n",
       "\n",
       "[535 rows x 2 columns]"
      ]
     },
     "execution_count": 67,
     "metadata": {},
     "output_type": "execute_result"
    }
   ],
   "source": [
    "df_bath"
   ]
  },
  {
   "cell_type": "code",
   "execution_count": 68,
   "metadata": {
    "id": "YikFHVVmkAOu"
   },
   "outputs": [],
   "source": [
    "df['bathrooms'] = df.promotion_id.map(df_bath.set_index('promotion_id')['bathrooms'])\n",
    "df['bathrooms'] = df['bathrooms'].fillna(0)\n",
    "df['bathrooms'] = df['bathrooms'].astype(int)"
   ]
  },
  {
   "cell_type": "code",
   "execution_count": 69,
   "metadata": {
    "colab": {
     "base_uri": "https://localhost:8080/",
     "height": 419
    },
    "id": "qAJE9PMFkAOx",
    "outputId": "fcefb4dd-5153-46f1-b86d-2c9b40ebaaa2"
   },
   "outputs": [
    {
     "data": {
      "text/html": [
       "<div>\n",
       "<style scoped>\n",
       "    .dataframe tbody tr th:only-of-type {\n",
       "        vertical-align: middle;\n",
       "    }\n",
       "\n",
       "    .dataframe tbody tr th {\n",
       "        vertical-align: top;\n",
       "    }\n",
       "\n",
       "    .dataframe thead th {\n",
       "        text-align: right;\n",
       "    }\n",
       "</style>\n",
       "<table border=\"1\" class=\"dataframe\">\n",
       "  <thead>\n",
       "    <tr style=\"text-align: right;\">\n",
       "      <th></th>\n",
       "      <th>facility_value</th>\n",
       "      <th>facility_id</th>\n",
       "      <th>facility_name</th>\n",
       "      <th>promotion_id</th>\n",
       "      <th>property_id</th>\n",
       "    </tr>\n",
       "  </thead>\n",
       "  <tbody>\n",
       "    <tr>\n",
       "      <th>0</th>\n",
       "      <td>2</td>\n",
       "      <td>82</td>\n",
       "      <td>Alcobas</td>\n",
       "      <td>45975</td>\n",
       "      <td>17957</td>\n",
       "    </tr>\n",
       "    <tr>\n",
       "      <th>1</th>\n",
       "      <td>0</td>\n",
       "      <td>93</td>\n",
       "      <td>Salon Comedor</td>\n",
       "      <td>45975</td>\n",
       "      <td>17957</td>\n",
       "    </tr>\n",
       "    <tr>\n",
       "      <th>2</th>\n",
       "      <td>0</td>\n",
       "      <td>96</td>\n",
       "      <td>Trifilar</td>\n",
       "      <td>45975</td>\n",
       "      <td>17957</td>\n",
       "    </tr>\n",
       "    <tr>\n",
       "      <th>3</th>\n",
       "      <td>1</td>\n",
       "      <td>99</td>\n",
       "      <td>Balcon</td>\n",
       "      <td>45975</td>\n",
       "      <td>17957</td>\n",
       "    </tr>\n",
       "    <tr>\n",
       "      <th>4</th>\n",
       "      <td>0</td>\n",
       "      <td>101</td>\n",
       "      <td>Patios</td>\n",
       "      <td>45975</td>\n",
       "      <td>17957</td>\n",
       "    </tr>\n",
       "    <tr>\n",
       "      <th>...</th>\n",
       "      <td>...</td>\n",
       "      <td>...</td>\n",
       "      <td>...</td>\n",
       "      <td>...</td>\n",
       "      <td>...</td>\n",
       "    </tr>\n",
       "    <tr>\n",
       "      <th>7389</th>\n",
       "      <td>0</td>\n",
       "      <td>119</td>\n",
       "      <td>Piso Baldosa</td>\n",
       "      <td>62895</td>\n",
       "      <td>33373</td>\n",
       "    </tr>\n",
       "    <tr>\n",
       "      <th>7390</th>\n",
       "      <td>0</td>\n",
       "      <td>129</td>\n",
       "      <td>Rejas</td>\n",
       "      <td>62895</td>\n",
       "      <td>33373</td>\n",
       "    </tr>\n",
       "    <tr>\n",
       "      <th>7391</th>\n",
       "      <td>0</td>\n",
       "      <td>130</td>\n",
       "      <td>Red Gas</td>\n",
       "      <td>62895</td>\n",
       "      <td>33373</td>\n",
       "    </tr>\n",
       "    <tr>\n",
       "      <th>7392</th>\n",
       "      <td>0</td>\n",
       "      <td>131</td>\n",
       "      <td>Cocina Sencilla</td>\n",
       "      <td>62895</td>\n",
       "      <td>33373</td>\n",
       "    </tr>\n",
       "    <tr>\n",
       "      <th>7393</th>\n",
       "      <td>0</td>\n",
       "      <td>156</td>\n",
       "      <td>No Mascotas</td>\n",
       "      <td>62895</td>\n",
       "      <td>33373</td>\n",
       "    </tr>\n",
       "  </tbody>\n",
       "</table>\n",
       "<p>7394 rows × 5 columns</p>\n",
       "</div>"
      ],
      "text/plain": [
       "     facility_value  facility_id    facility_name promotion_id property_id\n",
       "0                 2           82          Alcobas        45975       17957\n",
       "1                 0           93    Salon Comedor        45975       17957\n",
       "2                 0           96         Trifilar        45975       17957\n",
       "3                 1           99           Balcon        45975       17957\n",
       "4                 0          101           Patios        45975       17957\n",
       "...             ...          ...              ...          ...         ...\n",
       "7389              0          119     Piso Baldosa        62895       33373\n",
       "7390              0          129            Rejas        62895       33373\n",
       "7391              0          130          Red Gas        62895       33373\n",
       "7392              0          131  Cocina Sencilla        62895       33373\n",
       "7393              0          156      No Mascotas        62895       33373\n",
       "\n",
       "[7394 rows x 5 columns]"
      ]
     },
     "execution_count": 69,
     "metadata": {},
     "output_type": "execute_result"
    }
   ],
   "source": [
    "df_facilities"
   ]
  },
  {
   "cell_type": "code",
   "execution_count": 70,
   "metadata": {
    "id": "ygYsEU68kAO3"
   },
   "outputs": [],
   "source": [
    "df_facilities = df_facilities[df_facilities.facility_id != 82]\n",
    "df_facilities = df_facilities[df_facilities.facility_id != 105]\n",
    "df_facilities = df_facilities[df_facilities.facility_id != 112]"
   ]
  },
  {
   "cell_type": "markdown",
   "metadata": {
    "id": "64ecBLS0kAO6"
   },
   "source": [
    "### Extract other facilities"
   ]
  },
  {
   "cell_type": "code",
   "execution_count": 71,
   "metadata": {
    "id": "MGmpABiWkAO7"
   },
   "outputs": [],
   "source": [
    "df_facilities = df_facilities.groupby('promotion_id')['facility_name'].apply(list).reset_index(name='facilities')"
   ]
  },
  {
   "cell_type": "code",
   "execution_count": 72,
   "metadata": {
    "id": "4C0TpSwfkAO_"
   },
   "outputs": [],
   "source": [
    "df = df.drop(columns = ['facilities'])"
   ]
  },
  {
   "cell_type": "code",
   "execution_count": 73,
   "metadata": {
    "id": "x9IhU6nAkAPD"
   },
   "outputs": [],
   "source": [
    "df = pd.merge(df, df_facilities)"
   ]
  },
  {
   "cell_type": "markdown",
   "metadata": {
    "id": "Go9EuEwkkAPG"
   },
   "source": [
    "### Convert to lower"
   ]
  },
  {
   "cell_type": "code",
   "execution_count": 74,
   "metadata": {
    "id": "otOd_7gdkAPH"
   },
   "outputs": [],
   "source": [
    "df['city'] = df['city'].str.lower()\n",
    "df['type'] = df['type'].str.lower()\n",
    "df['neighborhood'] = df['neighborhood'].str.lower()"
   ]
  },
  {
   "cell_type": "markdown",
   "metadata": {
    "id": "qXWSmGyQkAPM"
   },
   "source": [
    "### Remove accents"
   ]
  },
  {
   "cell_type": "code",
   "execution_count": 75,
   "metadata": {
    "id": "mzowugIQkAPN"
   },
   "outputs": [],
   "source": [
    "cols = ['city', 'type', 'neighborhood']\n",
    "df[cols] = df[cols].apply(lambda x: x.str.replace(\"Ñ\", \"%\"))\n",
    "df[cols] = df[cols].apply(lambda x: x.str.normalize('NFKD').str.encode('ascii', errors='ignore').str.decode('ascii'))\n",
    "df[cols] = df[cols].apply(lambda x: x.str.replace(\"%\", \"Ñ\"))"
   ]
  },
  {
   "cell_type": "markdown",
   "metadata": {
    "id": "iEm5s3YIkAPR"
   },
   "source": [
    "### Get type properties"
   ]
  },
  {
   "cell_type": "code",
   "execution_count": 76,
   "metadata": {
    "id": "8Gca-IQ5kAPT"
   },
   "outputs": [],
   "source": [
    "def get_type_property(case):\n",
    "   sw = {\n",
    "      \"apartaestudio\": 38,\n",
    "      \"apartamento\": 2,\n",
    "      \"bodega\": 27,\n",
    "      \"casa\": 33,\n",
    "      \"casa local\": 40,\n",
    "      \"consultorio\": 29,\n",
    "      \"edificio\": 30,\n",
    "      \"finca\": 39, # Finca en Parcelacion\n",
    "      \"finca productiva\": 31,\n",
    "      \"finca recreativa\": 35,\n",
    "      \"hotel/apart hotel\": 32,\n",
    "      \"local\": 26,\n",
    "      \"lote comercial\": 28,\n",
    "      \"lote\": 37, # Lote en Parcelacion\n",
    "      \"lote independiente\": 34,\n",
    "      \"lote industrial\": 36,\n",
    "      \"oficina\": 25\n",
    "   }\n",
    "   return sw.get(case, 'Invalid option')"
   ]
  },
  {
   "cell_type": "code",
   "execution_count": 77,
   "metadata": {
    "id": "nQ2pz6C7kAPV"
   },
   "outputs": [],
   "source": [
    "df['type'] = df['type'].apply(lambda x: get_type_property(x))"
   ]
  },
  {
   "cell_type": "code",
   "execution_count": 78,
   "metadata": {
    "id": "sau0ShrtkAPX"
   },
   "outputs": [],
   "source": [
    "df['type'] = df['type'].astype(int)"
   ]
  },
  {
   "cell_type": "code",
   "execution_count": 79,
   "metadata": {
    "colab": {
     "base_uri": "https://localhost:8080/",
     "height": 1000
    },
    "id": "rgwT6FockAPa",
    "outputId": "0993258c-1b86-456e-f0f7-73b475d1a0e3"
   },
   "outputs": [
    {
     "data": {
      "text/html": [
       "<div>\n",
       "<style scoped>\n",
       "    .dataframe tbody tr th:only-of-type {\n",
       "        vertical-align: middle;\n",
       "    }\n",
       "\n",
       "    .dataframe tbody tr th {\n",
       "        vertical-align: top;\n",
       "    }\n",
       "\n",
       "    .dataframe thead th {\n",
       "        text-align: right;\n",
       "    }\n",
       "</style>\n",
       "<table border=\"1\" class=\"dataframe\">\n",
       "  <thead>\n",
       "    <tr style=\"text-align: right;\">\n",
       "      <th></th>\n",
       "      <th>promotion_id</th>\n",
       "      <th>promotion_rent</th>\n",
       "      <th>property_id</th>\n",
       "      <th>type</th>\n",
       "      <th>neighborhood</th>\n",
       "      <th>city</th>\n",
       "      <th>latitude</th>\n",
       "      <th>longitude</th>\n",
       "      <th>stratum</th>\n",
       "      <th>images</th>\n",
       "      <th>rooms</th>\n",
       "      <th>area</th>\n",
       "      <th>bathrooms</th>\n",
       "      <th>facilities</th>\n",
       "    </tr>\n",
       "  </thead>\n",
       "  <tbody>\n",
       "    <tr>\n",
       "      <th>0</th>\n",
       "      <td>45975</td>\n",
       "      <td>500000</td>\n",
       "      <td>17957</td>\n",
       "      <td>2</td>\n",
       "      <td>caribe</td>\n",
       "      <td>medellin</td>\n",
       "      <td>6.273039</td>\n",
       "      <td>-75.572224</td>\n",
       "      <td>3.0</td>\n",
       "      <td>[https://assets.arrendamientosnutibara.com/spa...</td>\n",
       "      <td>2</td>\n",
       "      <td>45.0</td>\n",
       "      <td>1</td>\n",
       "      <td>[Salon Comedor, Trifilar, Balcon, Patios, Zona...</td>\n",
       "    </tr>\n",
       "    <tr>\n",
       "      <th>1</th>\n",
       "      <td>47237</td>\n",
       "      <td>680000</td>\n",
       "      <td>28978</td>\n",
       "      <td>26</td>\n",
       "      <td>centro</td>\n",
       "      <td>medellin</td>\n",
       "      <td>6.256035</td>\n",
       "      <td>-75.571223</td>\n",
       "      <td>3.0</td>\n",
       "      <td>[https://assets.arrendamientosnutibara.com/spa...</td>\n",
       "      <td>2</td>\n",
       "      <td>65.0</td>\n",
       "      <td>2</td>\n",
       "      <td>[Closet, Salon Comedor, Balcon, Patios, Zona R...</td>\n",
       "    </tr>\n",
       "    <tr>\n",
       "      <th>2</th>\n",
       "      <td>50320</td>\n",
       "      <td>850000</td>\n",
       "      <td>21007</td>\n",
       "      <td>33</td>\n",
       "      <td>francisco antonio zea</td>\n",
       "      <td>medellin</td>\n",
       "      <td>6.286610</td>\n",
       "      <td>-75.573299</td>\n",
       "      <td>3.0</td>\n",
       "      <td>[https://assets.arrendamientosnutibara.com/spa...</td>\n",
       "      <td>3</td>\n",
       "      <td>108.0</td>\n",
       "      <td>1</td>\n",
       "      <td>[Closet, Salon Comedor, Cocina Sencilla, Balco...</td>\n",
       "    </tr>\n",
       "    <tr>\n",
       "      <th>3</th>\n",
       "      <td>50833</td>\n",
       "      <td>1000000</td>\n",
       "      <td>8446</td>\n",
       "      <td>26</td>\n",
       "      <td>itagui</td>\n",
       "      <td>itagui</td>\n",
       "      <td>6.190032</td>\n",
       "      <td>-75.597829</td>\n",
       "      <td>3.0</td>\n",
       "      <td>[https://assets.arrendamientosnutibara.com/spa...</td>\n",
       "      <td>0</td>\n",
       "      <td>25.0</td>\n",
       "      <td>1</td>\n",
       "      <td>[Barra Americana, Lavamanos, Red Gas]</td>\n",
       "    </tr>\n",
       "    <tr>\n",
       "      <th>4</th>\n",
       "      <td>51352</td>\n",
       "      <td>8500000</td>\n",
       "      <td>28820</td>\n",
       "      <td>26</td>\n",
       "      <td>centro</td>\n",
       "      <td>medellin</td>\n",
       "      <td>6.252109</td>\n",
       "      <td>-75.567265</td>\n",
       "      <td>4.0</td>\n",
       "      <td>[https://assets.arrendamientosnutibara.com/spa...</td>\n",
       "      <td>0</td>\n",
       "      <td>700.0</td>\n",
       "      <td>5</td>\n",
       "      <td>[Un Ambiente, Lavamanos, Ascensor, Porteria, P...</td>\n",
       "    </tr>\n",
       "    <tr>\n",
       "      <th>...</th>\n",
       "      <td>...</td>\n",
       "      <td>...</td>\n",
       "      <td>...</td>\n",
       "      <td>...</td>\n",
       "      <td>...</td>\n",
       "      <td>...</td>\n",
       "      <td>...</td>\n",
       "      <td>...</td>\n",
       "      <td>...</td>\n",
       "      <td>...</td>\n",
       "      <td>...</td>\n",
       "      <td>...</td>\n",
       "      <td>...</td>\n",
       "      <td>...</td>\n",
       "    </tr>\n",
       "    <tr>\n",
       "      <th>583</th>\n",
       "      <td>62877</td>\n",
       "      <td>800000</td>\n",
       "      <td>13613</td>\n",
       "      <td>2</td>\n",
       "      <td>tricentenario</td>\n",
       "      <td>medellin</td>\n",
       "      <td>6.291108</td>\n",
       "      <td>-75.565718</td>\n",
       "      <td>3.0</td>\n",
       "      <td>[https://assets.arrendamientosnutibara.com/spa...</td>\n",
       "      <td>3</td>\n",
       "      <td>68.0</td>\n",
       "      <td>1</td>\n",
       "      <td>[Closet, Salon Comedor, Zona Ropa, Lavadero, I...</td>\n",
       "    </tr>\n",
       "    <tr>\n",
       "      <th>584</th>\n",
       "      <td>62879</td>\n",
       "      <td>1900000</td>\n",
       "      <td>34419</td>\n",
       "      <td>33</td>\n",
       "      <td>laureles</td>\n",
       "      <td>medellin</td>\n",
       "      <td>6.238079</td>\n",
       "      <td>-75.594181</td>\n",
       "      <td>5.0</td>\n",
       "      <td>[https://assets.arrendamientosnutibara.com/spa...</td>\n",
       "      <td>3</td>\n",
       "      <td></td>\n",
       "      <td>3</td>\n",
       "      <td>[Closet, Sala, Comedor, Cuarto Util, Patios, L...</td>\n",
       "    </tr>\n",
       "    <tr>\n",
       "      <th>585</th>\n",
       "      <td>62884</td>\n",
       "      <td>2200000</td>\n",
       "      <td>30704</td>\n",
       "      <td>26</td>\n",
       "      <td>centro</td>\n",
       "      <td>medellin</td>\n",
       "      <td>6.253478</td>\n",
       "      <td>-75.562653</td>\n",
       "      <td>4.0</td>\n",
       "      <td>[https://assets.arrendamientosnutibara.com/spa...</td>\n",
       "      <td>2</td>\n",
       "      <td>130.0</td>\n",
       "      <td>2</td>\n",
       "      <td>[Terraza, Patios, Lavadero, Salon Social, Nota 5]</td>\n",
       "    </tr>\n",
       "    <tr>\n",
       "      <th>586</th>\n",
       "      <td>62886</td>\n",
       "      <td>2500000</td>\n",
       "      <td>34422</td>\n",
       "      <td>33</td>\n",
       "      <td>estadio</td>\n",
       "      <td>medellin</td>\n",
       "      <td>6.253917</td>\n",
       "      <td>-75.582674</td>\n",
       "      <td>5.0</td>\n",
       "      <td>[https://assets.arrendamientosnutibara.com/spa...</td>\n",
       "      <td>3</td>\n",
       "      <td>180.0</td>\n",
       "      <td>2</td>\n",
       "      <td>[Cocina Integral, Nota 5, Alcoba de servicio, ...</td>\n",
       "    </tr>\n",
       "    <tr>\n",
       "      <th>587</th>\n",
       "      <td>62895</td>\n",
       "      <td>1000000</td>\n",
       "      <td>33373</td>\n",
       "      <td>33</td>\n",
       "      <td>alfonso lopez</td>\n",
       "      <td>medellin</td>\n",
       "      <td>6.283695</td>\n",
       "      <td>-75.576573</td>\n",
       "      <td>3.0</td>\n",
       "      <td>[https://assets.arrendamientosnutibara.com/spa...</td>\n",
       "      <td>3</td>\n",
       "      <td>75.0</td>\n",
       "      <td>1</td>\n",
       "      <td>[Closet, Salon Comedor, Patios, Lavadero, Inst...</td>\n",
       "    </tr>\n",
       "  </tbody>\n",
       "</table>\n",
       "<p>588 rows × 14 columns</p>\n",
       "</div>"
      ],
      "text/plain": [
       "     promotion_id promotion_rent  property_id  type           neighborhood  \\\n",
       "0           45975         500000        17957     2                 caribe   \n",
       "1           47237         680000        28978    26                 centro   \n",
       "2           50320         850000        21007    33  francisco antonio zea   \n",
       "3           50833        1000000         8446    26                 itagui   \n",
       "4           51352        8500000        28820    26                 centro   \n",
       "..            ...            ...          ...   ...                    ...   \n",
       "583         62877         800000        13613     2          tricentenario   \n",
       "584         62879        1900000        34419    33               laureles   \n",
       "585         62884        2200000        30704    26                 centro   \n",
       "586         62886        2500000        34422    33                estadio   \n",
       "587         62895        1000000        33373    33          alfonso lopez   \n",
       "\n",
       "         city  latitude  longitude  stratum  \\\n",
       "0    medellin  6.273039 -75.572224      3.0   \n",
       "1    medellin  6.256035 -75.571223      3.0   \n",
       "2    medellin  6.286610 -75.573299      3.0   \n",
       "3      itagui  6.190032 -75.597829      3.0   \n",
       "4    medellin  6.252109 -75.567265      4.0   \n",
       "..        ...       ...        ...      ...   \n",
       "583  medellin  6.291108 -75.565718      3.0   \n",
       "584  medellin  6.238079 -75.594181      5.0   \n",
       "585  medellin  6.253478 -75.562653      4.0   \n",
       "586  medellin  6.253917 -75.582674      5.0   \n",
       "587  medellin  6.283695 -75.576573      3.0   \n",
       "\n",
       "                                                images  rooms   area  \\\n",
       "0    [https://assets.arrendamientosnutibara.com/spa...      2   45.0   \n",
       "1    [https://assets.arrendamientosnutibara.com/spa...      2   65.0   \n",
       "2    [https://assets.arrendamientosnutibara.com/spa...      3  108.0   \n",
       "3    [https://assets.arrendamientosnutibara.com/spa...      0   25.0   \n",
       "4    [https://assets.arrendamientosnutibara.com/spa...      0  700.0   \n",
       "..                                                 ...    ...    ...   \n",
       "583  [https://assets.arrendamientosnutibara.com/spa...      3   68.0   \n",
       "584  [https://assets.arrendamientosnutibara.com/spa...      3          \n",
       "585  [https://assets.arrendamientosnutibara.com/spa...      2  130.0   \n",
       "586  [https://assets.arrendamientosnutibara.com/spa...      3  180.0   \n",
       "587  [https://assets.arrendamientosnutibara.com/spa...      3   75.0   \n",
       "\n",
       "     bathrooms                                         facilities  \n",
       "0            1  [Salon Comedor, Trifilar, Balcon, Patios, Zona...  \n",
       "1            2  [Closet, Salon Comedor, Balcon, Patios, Zona R...  \n",
       "2            1  [Closet, Salon Comedor, Cocina Sencilla, Balco...  \n",
       "3            1              [Barra Americana, Lavamanos, Red Gas]  \n",
       "4            5  [Un Ambiente, Lavamanos, Ascensor, Porteria, P...  \n",
       "..         ...                                                ...  \n",
       "583          1  [Closet, Salon Comedor, Zona Ropa, Lavadero, I...  \n",
       "584          3  [Closet, Sala, Comedor, Cuarto Util, Patios, L...  \n",
       "585          2  [Terraza, Patios, Lavadero, Salon Social, Nota 5]  \n",
       "586          2  [Cocina Integral, Nota 5, Alcoba de servicio, ...  \n",
       "587          1  [Closet, Salon Comedor, Patios, Lavadero, Inst...  \n",
       "\n",
       "[588 rows x 14 columns]"
      ]
     },
     "execution_count": 79,
     "metadata": {},
     "output_type": "execute_result"
    }
   ],
   "source": [
    "df"
   ]
  },
  {
   "cell_type": "markdown",
   "metadata": {
    "id": "4QcugANtkAPd"
   },
   "source": [
    "### Get cities"
   ]
  },
  {
   "cell_type": "code",
   "execution_count": 81,
   "metadata": {
    "id": "jg3KgsxekAPh"
   },
   "outputs": [],
   "source": [
    "async def get_cities(url):\n",
    "    async with aiohttp.ClientSession(headers=headers) as session:\n",
    "        async with session.get(url) as response:\n",
    "            data = json.loads(await response.text())\n",
    "            cities = data['response']\n",
    "            return cities\n",
    "\n",
    "loop = asyncio.get_event_loop()\n",
    "\n",
    "cities = loop.run_until_complete(get_cities('http://appropiate.com/api/ciudad'))"
   ]
  },
  {
   "cell_type": "code",
   "execution_count": 82,
   "metadata": {
    "id": "m4G_Y90-kAPk"
   },
   "outputs": [],
   "source": [
    "df_cities = pd.DataFrame(list(cities))"
   ]
  },
  {
   "cell_type": "code",
   "execution_count": 83,
   "metadata": {
    "id": "KCo3qVNrkAPm"
   },
   "outputs": [],
   "source": [
    "cols = ['nombre']\n",
    "df_cities[cols] = df_cities[cols].apply(lambda x: x.str.replace(\"Ñ\", \"%\"))\n",
    "df_cities[cols] = df_cities[cols].apply(lambda x: x.str.normalize('NFKD').str.encode('ascii', errors='ignore').str.decode('ascii'))\n",
    "df_cities[cols] = df_cities[cols].apply(lambda x: x.str.replace(\"%\", \"Ñ\"))"
   ]
  },
  {
   "cell_type": "code",
   "execution_count": 84,
   "metadata": {
    "id": "meomK44wkAPp"
   },
   "outputs": [],
   "source": [
    "df_cities['nombre'] = df_cities['nombre'].str.lower()"
   ]
  },
  {
   "cell_type": "code",
   "execution_count": 85,
   "metadata": {
    "id": "31o2bjIJkAPr"
   },
   "outputs": [],
   "source": [
    "list_cities = df_cities.to_dict('records')"
   ]
  },
  {
   "cell_type": "code",
   "execution_count": 86,
   "metadata": {
    "id": "Zffa1KRakAPt"
   },
   "outputs": [],
   "source": [
    "def get_city(case, cities):\n",
    "    for city in cities:\n",
    "        if(case in city['nombre']):\n",
    "            return int(city['id'])"
   ]
  },
  {
   "cell_type": "code",
   "execution_count": 87,
   "metadata": {
    "id": "yi23KvMvkAPv"
   },
   "outputs": [],
   "source": [
    "df['city'] = df['city'].apply(lambda x: get_city(x, list_cities))"
   ]
  },
  {
   "cell_type": "markdown",
   "metadata": {
    "id": "lAGY1I-kkAPx"
   },
   "source": [
    "### Get neighborhoods"
   ]
  },
  {
   "cell_type": "code",
   "execution_count": 89,
   "metadata": {
    "id": "sWmqTs1ckAP0"
   },
   "outputs": [],
   "source": [
    "async def get_neighborhoods(url):\n",
    "    async with aiohttp.ClientSession(headers=headers) as session:\n",
    "        async with session.get(url) as response:\n",
    "            data = json.loads(await response.text())\n",
    "            neighborhoods = data['response']\n",
    "            return neighborhoods\n",
    "\n",
    "loop = asyncio.get_event_loop()\n",
    "\n",
    "neighborhoods = loop.run_until_complete(get_neighborhoods('http://appropiate.com/api/barrio'))"
   ]
  },
  {
   "cell_type": "code",
   "execution_count": 90,
   "metadata": {
    "id": "6v7KyAqlkAP2"
   },
   "outputs": [],
   "source": [
    "df_neighborhoods = pd.DataFrame(list(neighborhoods))"
   ]
  },
  {
   "cell_type": "code",
   "execution_count": 91,
   "metadata": {
    "id": "msoBSdvPkAP4"
   },
   "outputs": [],
   "source": [
    "cols = ['nombre']\n",
    "df_neighborhoods[cols] = df_neighborhoods[cols].apply(lambda x: x.str.replace(\"Ñ\", \"%\"))\n",
    "df_neighborhoods[cols] = df_neighborhoods[cols].apply(lambda x: x.str.normalize('NFKD').str.encode('ascii', errors='ignore').str.decode('ascii'))\n",
    "df_neighborhoods[cols] = df_neighborhoods[cols].apply(lambda x: x.str.replace(\"%\", \"Ñ\"))"
   ]
  },
  {
   "cell_type": "code",
   "execution_count": 92,
   "metadata": {
    "id": "Z5wirc3_kAP6"
   },
   "outputs": [],
   "source": [
    "df_neighborhoods['nombre'] = df_neighborhoods['nombre'].str.lower()"
   ]
  },
  {
   "cell_type": "code",
   "execution_count": 93,
   "metadata": {
    "id": "WCxWNHMWkAP9"
   },
   "outputs": [],
   "source": [
    "list_neighborhoods = df_neighborhoods.to_dict('records')"
   ]
  },
  {
   "cell_type": "code",
   "execution_count": 94,
   "metadata": {
    "id": "1KTU-qnukAP-"
   },
   "outputs": [],
   "source": [
    "def get_neighborhood(case, neighborhoods):\n",
    "    for neighborhood in neighborhoods:\n",
    "        if(case in neighborhood['nombre']):\n",
    "            return int(neighborhood['id'])"
   ]
  },
  {
   "cell_type": "code",
   "execution_count": 95,
   "metadata": {
    "id": "YoQgpbsJkAQA"
   },
   "outputs": [],
   "source": [
    "df['neighborhood'] = df['neighborhood'].apply(lambda x: get_neighborhood(x, list_neighborhoods))\n",
    "df['neighborhood'] = df['neighborhood'].fillna('')"
   ]
  },
  {
   "cell_type": "markdown",
   "metadata": {
    "id": "rf9_Me4dkAQF"
   },
   "source": [
    "### Get other facilities"
   ]
  },
  {
   "cell_type": "code",
   "execution_count": 97,
   "metadata": {
    "id": "V7bb1i2QkAQI"
   },
   "outputs": [],
   "source": [
    "async def get_facilities(url):\n",
    "    async with aiohttp.ClientSession(headers=headers) as session:\n",
    "        async with session.get(url) as response:\n",
    "            data = json.loads(await response.text())\n",
    "            facilities = data['response']\n",
    "            return facilities\n",
    "\n",
    "loop = asyncio.get_event_loop()\n",
    "\n",
    "facilities = loop.run_until_complete(get_facilities('http://appropiate.com/api/caracteristica'))"
   ]
  },
  {
   "cell_type": "code",
   "execution_count": 98,
   "metadata": {
    "id": "0PWM_8bDkAQL"
   },
   "outputs": [],
   "source": [
    "df_facilities = pd.DataFrame(list(facilities))"
   ]
  },
  {
   "cell_type": "code",
   "execution_count": 99,
   "metadata": {
    "id": "q0HTKhDdkAQN"
   },
   "outputs": [],
   "source": [
    "cols = ['nombre']\n",
    "df_facilities[cols] = df_facilities[cols].apply(lambda x: x.str.replace(\"Ñ\", \"%\"))\n",
    "df_facilities[cols] = df_facilities[cols].apply(lambda x: x.str.normalize('NFKD').str.encode('ascii', errors='ignore').str.decode('ascii'))\n",
    "df_facilities[cols] = df_facilities[cols].apply(lambda x: x.str.replace(\"%\", \"Ñ\"))"
   ]
  },
  {
   "cell_type": "code",
   "execution_count": 100,
   "metadata": {
    "id": "bb9LFuY4kAQP"
   },
   "outputs": [],
   "source": [
    "df_facilities['nombre'] = df_facilities['nombre'].str.lower()"
   ]
  },
  {
   "cell_type": "code",
   "execution_count": 101,
   "metadata": {
    "id": "tzKCD_E2kAQR"
   },
   "outputs": [],
   "source": [
    "list_facilities = df_facilities.to_dict('records')"
   ]
  },
  {
   "cell_type": "code",
   "execution_count": 102,
   "metadata": {
    "id": "HNWMIs3RkAQT"
   },
   "outputs": [],
   "source": [
    "def map_other_facilities():\n",
    "   other_facilities_dict = {\n",
    "      \"Alcoba Servicio\": 83,\n",
    "      \"Biblioteca\": 481,\n",
    "      \"Mezanine\": 238,\n",
    "      \"Closet\": 249,\n",
    "      \"Comedor\": 443,\n",
    "      \"Salon Comedor\": 477,\n",
    "      \"Barra Americana\": 157,\n",
    "      \"CuartoUtil\": 139,\n",
    "      \"Hall\": 516,\n",
    "      \"Balcon\": 133,\n",
    "      \"Terraza\": 270,\n",
    "      \"Patios\": 163,\n",
    "      \"Zona Ropa\": 169,\n",
    "      \"Calentador\": 200,\n",
    "      \"Unidad Cerrada\": 319,\n",
    "      \"Juegos Infantiles\": 390,\n",
    "      \"Ascensor\": 355,\n",
    "      \"Zona Verde\": 320,\n",
    "      \"Porteria\": 327,\n",
    "      \"Piscina\": 325,\n",
    "      \"Salon Social\": 318,\n",
    "      \"Citofono\": 201,\n",
    "      \"Aire Acondicionado\": 180,\n",
    "      \"Shut Basura\": 451,\n",
    "      \"Red Gas\": 205,\n",
    "      \"Cocina Integral\": 133,\n",
    "      \"Parqueadero Cubierto\": 343,\n",
    "      \"Parqueadero Descubierto\": 343,\n",
    "      \"Adm. 18. Libre ADM Of. Paga\": 456,\n",
    "      \"Adm. 56. Libre ADM Pt. Paga\": 456,\n",
    "      \"Adm. 38. Adm en Of. Of. Paga\": 456,\n",
    "      \"Adm. 101 Adm en Of. Pt. Paga\": 456,\n",
    "      \"Persiana\": 243,\n",
    "      \"Cocineta\": 258,\n",
    "      \"Gimnasio\": 321,\n",
    "      \"Sauna\": 323,\n",
    "      \"Turco\": 324,\n",
    "      \"Cancha Sintetica\": 273,\n",
    "      \"Cancha Polideportiva\": 209,\n",
    "      \"Parqueadero Moto\": 343,\n",
    "      \"Sotano\": 248,\n",
    "      \"Circuito cerrado tv\": 257,\n",
    "      \"Campestre\": 227,\n",
    "      \"Con Local\": 426,\n",
    "      \"jacuzzi\": 300\n",
    "   }\n",
    "   return other_facilities_dict"
   ]
  },
  {
   "cell_type": "markdown",
   "metadata": {
    "id": "w0OOkfmGkAQV"
   },
   "source": [
    "### Map other facilities"
   ]
  },
  {
   "cell_type": "code",
   "execution_count": 103,
   "metadata": {
    "id": "5pl3xFblkAQX"
   },
   "outputs": [],
   "source": [
    "data_dict = map_other_facilities()"
   ]
  },
  {
   "cell_type": "code",
   "execution_count": 104,
   "metadata": {
    "id": "l469OZrukAQb"
   },
   "outputs": [],
   "source": [
    "df['facilities'] = df['facilities'].apply(lambda x: [data_dict.get(v) for v in x if v in data_dict])"
   ]
  },
  {
   "cell_type": "code",
   "execution_count": 105,
   "metadata": {
    "colab": {
     "base_uri": "https://localhost:8080/",
     "height": 49
    },
    "id": "3cfSDWntkAQd",
    "outputId": "731d110a-62d0-402b-8927-b8fc19fc6619"
   },
   "outputs": [
    {
     "data": {
      "text/html": [
       "<div>\n",
       "<style scoped>\n",
       "    .dataframe tbody tr th:only-of-type {\n",
       "        vertical-align: middle;\n",
       "    }\n",
       "\n",
       "    .dataframe tbody tr th {\n",
       "        vertical-align: top;\n",
       "    }\n",
       "\n",
       "    .dataframe thead th {\n",
       "        text-align: right;\n",
       "    }\n",
       "</style>\n",
       "<table border=\"1\" class=\"dataframe\">\n",
       "  <thead>\n",
       "    <tr style=\"text-align: right;\">\n",
       "      <th></th>\n",
       "      <th>promotion_id</th>\n",
       "      <th>promotion_rent</th>\n",
       "      <th>property_id</th>\n",
       "      <th>type</th>\n",
       "      <th>neighborhood</th>\n",
       "      <th>city</th>\n",
       "      <th>latitude</th>\n",
       "      <th>longitude</th>\n",
       "      <th>stratum</th>\n",
       "      <th>images</th>\n",
       "      <th>rooms</th>\n",
       "      <th>area</th>\n",
       "      <th>bathrooms</th>\n",
       "      <th>facilities</th>\n",
       "    </tr>\n",
       "  </thead>\n",
       "  <tbody>\n",
       "  </tbody>\n",
       "</table>\n",
       "</div>"
      ],
      "text/plain": [
       "Empty DataFrame\n",
       "Columns: [promotion_id, promotion_rent, property_id, type, neighborhood, city, latitude, longitude, stratum, images, rooms, area, bathrooms, facilities]\n",
       "Index: []"
      ]
     },
     "execution_count": 105,
     "metadata": {},
     "output_type": "execute_result"
    }
   ],
   "source": [
    "df[df['promotion_rent'] == 0]"
   ]
  },
  {
   "cell_type": "code",
   "execution_count": 106,
   "metadata": {
    "colab": {
     "base_uri": "https://localhost:8080/",
     "height": 49
    },
    "id": "_yioGFMVkAQf",
    "outputId": "ddf3edf3-e490-4ef9-cbcb-e96068f4e3ba"
   },
   "outputs": [
    {
     "data": {
      "text/html": [
       "<div>\n",
       "<style scoped>\n",
       "    .dataframe tbody tr th:only-of-type {\n",
       "        vertical-align: middle;\n",
       "    }\n",
       "\n",
       "    .dataframe tbody tr th {\n",
       "        vertical-align: top;\n",
       "    }\n",
       "\n",
       "    .dataframe thead th {\n",
       "        text-align: right;\n",
       "    }\n",
       "</style>\n",
       "<table border=\"1\" class=\"dataframe\">\n",
       "  <thead>\n",
       "    <tr style=\"text-align: right;\">\n",
       "      <th></th>\n",
       "      <th>promotion_id</th>\n",
       "      <th>promotion_rent</th>\n",
       "      <th>property_id</th>\n",
       "      <th>type</th>\n",
       "      <th>neighborhood</th>\n",
       "      <th>city</th>\n",
       "      <th>latitude</th>\n",
       "      <th>longitude</th>\n",
       "      <th>stratum</th>\n",
       "      <th>images</th>\n",
       "      <th>rooms</th>\n",
       "      <th>area</th>\n",
       "      <th>bathrooms</th>\n",
       "      <th>facilities</th>\n",
       "    </tr>\n",
       "  </thead>\n",
       "  <tbody>\n",
       "  </tbody>\n",
       "</table>\n",
       "</div>"
      ],
      "text/plain": [
       "Empty DataFrame\n",
       "Columns: [promotion_id, promotion_rent, property_id, type, neighborhood, city, latitude, longitude, stratum, images, rooms, area, bathrooms, facilities]\n",
       "Index: []"
      ]
     },
     "execution_count": 106,
     "metadata": {},
     "output_type": "execute_result"
    }
   ],
   "source": [
    "df[df['area'] == 0]"
   ]
  },
  {
   "cell_type": "code",
   "execution_count": 107,
   "metadata": {
    "colab": {
     "base_uri": "https://localhost:8080/",
     "height": 49
    },
    "id": "naabBdp8kAQh",
    "outputId": "72739031-e95a-4924-9b86-1bcfd260cc65"
   },
   "outputs": [
    {
     "data": {
      "text/html": [
       "<div>\n",
       "<style scoped>\n",
       "    .dataframe tbody tr th:only-of-type {\n",
       "        vertical-align: middle;\n",
       "    }\n",
       "\n",
       "    .dataframe tbody tr th {\n",
       "        vertical-align: top;\n",
       "    }\n",
       "\n",
       "    .dataframe thead th {\n",
       "        text-align: right;\n",
       "    }\n",
       "</style>\n",
       "<table border=\"1\" class=\"dataframe\">\n",
       "  <thead>\n",
       "    <tr style=\"text-align: right;\">\n",
       "      <th></th>\n",
       "      <th>promotion_id</th>\n",
       "      <th>promotion_rent</th>\n",
       "      <th>property_id</th>\n",
       "      <th>type</th>\n",
       "      <th>neighborhood</th>\n",
       "      <th>city</th>\n",
       "      <th>latitude</th>\n",
       "      <th>longitude</th>\n",
       "      <th>stratum</th>\n",
       "      <th>images</th>\n",
       "      <th>rooms</th>\n",
       "      <th>area</th>\n",
       "      <th>bathrooms</th>\n",
       "      <th>facilities</th>\n",
       "    </tr>\n",
       "  </thead>\n",
       "  <tbody>\n",
       "    <tr>\n",
       "      <th>582</th>\n",
       "      <td>62876</td>\n",
       "      <td>700000</td>\n",
       "      <td>20644</td>\n",
       "      <td>2</td>\n",
       "      <td>1514</td>\n",
       "      <td>91</td>\n",
       "      <td>0.0</td>\n",
       "      <td>0.0</td>\n",
       "      <td>3.0</td>\n",
       "      <td>[https://assets.arrendamientosnutibara.com/spa...</td>\n",
       "      <td>2</td>\n",
       "      <td>62.0</td>\n",
       "      <td>1</td>\n",
       "      <td>[249, 443, 157, 133, 169, 133]</td>\n",
       "    </tr>\n",
       "  </tbody>\n",
       "</table>\n",
       "</div>"
      ],
      "text/plain": [
       "     promotion_id promotion_rent  property_id  type  neighborhood  city  \\\n",
       "582         62876         700000        20644     2          1514    91   \n",
       "\n",
       "     latitude  longitude  stratum  \\\n",
       "582       0.0        0.0      3.0   \n",
       "\n",
       "                                                images  rooms  area  \\\n",
       "582  [https://assets.arrendamientosnutibara.com/spa...      2  62.0   \n",
       "\n",
       "     bathrooms                      facilities  \n",
       "582          1  [249, 443, 157, 133, 169, 133]  "
      ]
     },
     "execution_count": 107,
     "metadata": {},
     "output_type": "execute_result"
    }
   ],
   "source": [
    "df[df['latitude'] == 0]"
   ]
  },
  {
   "cell_type": "code",
   "execution_count": 108,
   "metadata": {
    "colab": {
     "base_uri": "https://localhost:8080/",
     "height": 49
    },
    "id": "AEIf1hYhkAQk",
    "outputId": "2207eb48-049c-4dd1-dbc6-a5c36e5b5be3"
   },
   "outputs": [
    {
     "data": {
      "text/html": [
       "<div>\n",
       "<style scoped>\n",
       "    .dataframe tbody tr th:only-of-type {\n",
       "        vertical-align: middle;\n",
       "    }\n",
       "\n",
       "    .dataframe tbody tr th {\n",
       "        vertical-align: top;\n",
       "    }\n",
       "\n",
       "    .dataframe thead th {\n",
       "        text-align: right;\n",
       "    }\n",
       "</style>\n",
       "<table border=\"1\" class=\"dataframe\">\n",
       "  <thead>\n",
       "    <tr style=\"text-align: right;\">\n",
       "      <th></th>\n",
       "      <th>promotion_id</th>\n",
       "      <th>promotion_rent</th>\n",
       "      <th>property_id</th>\n",
       "      <th>type</th>\n",
       "      <th>neighborhood</th>\n",
       "      <th>city</th>\n",
       "      <th>latitude</th>\n",
       "      <th>longitude</th>\n",
       "      <th>stratum</th>\n",
       "      <th>images</th>\n",
       "      <th>rooms</th>\n",
       "      <th>area</th>\n",
       "      <th>bathrooms</th>\n",
       "      <th>facilities</th>\n",
       "    </tr>\n",
       "  </thead>\n",
       "  <tbody>\n",
       "    <tr>\n",
       "      <th>582</th>\n",
       "      <td>62876</td>\n",
       "      <td>700000</td>\n",
       "      <td>20644</td>\n",
       "      <td>2</td>\n",
       "      <td>1514</td>\n",
       "      <td>91</td>\n",
       "      <td>0.0</td>\n",
       "      <td>0.0</td>\n",
       "      <td>3.0</td>\n",
       "      <td>[https://assets.arrendamientosnutibara.com/spa...</td>\n",
       "      <td>2</td>\n",
       "      <td>62.0</td>\n",
       "      <td>1</td>\n",
       "      <td>[249, 443, 157, 133, 169, 133]</td>\n",
       "    </tr>\n",
       "  </tbody>\n",
       "</table>\n",
       "</div>"
      ],
      "text/plain": [
       "     promotion_id promotion_rent  property_id  type  neighborhood  city  \\\n",
       "582         62876         700000        20644     2          1514    91   \n",
       "\n",
       "     latitude  longitude  stratum  \\\n",
       "582       0.0        0.0      3.0   \n",
       "\n",
       "                                                images  rooms  area  \\\n",
       "582  [https://assets.arrendamientosnutibara.com/spa...      2  62.0   \n",
       "\n",
       "     bathrooms                      facilities  \n",
       "582          1  [249, 443, 157, 133, 169, 133]  "
      ]
     },
     "execution_count": 108,
     "metadata": {},
     "output_type": "execute_result"
    }
   ],
   "source": [
    "df[df['longitude'] == 0]"
   ]
  },
  {
   "cell_type": "code",
   "execution_count": 109,
   "metadata": {
    "colab": {
     "base_uri": "https://localhost:8080/",
     "height": 49
    },
    "id": "OeWj8Zb-mLFV",
    "outputId": "c73f9c68-ae6d-4ea9-ec0f-6e2676687c8a"
   },
   "outputs": [
    {
     "data": {
      "text/html": [
       "<div>\n",
       "<style scoped>\n",
       "    .dataframe tbody tr th:only-of-type {\n",
       "        vertical-align: middle;\n",
       "    }\n",
       "\n",
       "    .dataframe tbody tr th {\n",
       "        vertical-align: top;\n",
       "    }\n",
       "\n",
       "    .dataframe thead th {\n",
       "        text-align: right;\n",
       "    }\n",
       "</style>\n",
       "<table border=\"1\" class=\"dataframe\">\n",
       "  <thead>\n",
       "    <tr style=\"text-align: right;\">\n",
       "      <th></th>\n",
       "      <th>promotion_id</th>\n",
       "      <th>promotion_rent</th>\n",
       "      <th>property_id</th>\n",
       "      <th>type</th>\n",
       "      <th>neighborhood</th>\n",
       "      <th>city</th>\n",
       "      <th>latitude</th>\n",
       "      <th>longitude</th>\n",
       "      <th>stratum</th>\n",
       "      <th>images</th>\n",
       "      <th>rooms</th>\n",
       "      <th>area</th>\n",
       "      <th>bathrooms</th>\n",
       "      <th>facilities</th>\n",
       "    </tr>\n",
       "  </thead>\n",
       "  <tbody>\n",
       "  </tbody>\n",
       "</table>\n",
       "</div>"
      ],
      "text/plain": [
       "Empty DataFrame\n",
       "Columns: [promotion_id, promotion_rent, property_id, type, neighborhood, city, latitude, longitude, stratum, images, rooms, area, bathrooms, facilities]\n",
       "Index: []"
      ]
     },
     "execution_count": 109,
     "metadata": {},
     "output_type": "execute_result"
    }
   ],
   "source": [
    "df[df['promotion_rent'] == 0]"
   ]
  }
 ],
 "metadata": {
  "colab": {
   "collapsed_sections": [
    "OdrOrnfNkAOD"
   ],
   "name": "appropiate_connection_service.ipynb",
   "provenance": [],
   "toc_visible": true
  },
  "kernelspec": {
   "display_name": "Python 3",
   "language": "python",
   "name": "python3"
  },
  "language_info": {
   "codemirror_mode": {
    "name": "ipython",
    "version": 3
   },
   "file_extension": ".py",
   "mimetype": "text/x-python",
   "name": "python",
   "nbconvert_exporter": "python",
   "pygments_lexer": "ipython3",
   "version": "3.9.1"
  }
 },
 "nbformat": 4,
 "nbformat_minor": 1
}
